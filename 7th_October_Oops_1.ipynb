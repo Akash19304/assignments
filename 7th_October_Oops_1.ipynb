{
  "nbformat": 4,
  "nbformat_minor": 0,
  "metadata": {
    "colab": {
      "provenance": []
    },
    "kernelspec": {
      "name": "python3",
      "display_name": "Python 3"
    },
    "language_info": {
      "name": "python"
    }
  },
  "cells": [
    {
      "cell_type": "markdown",
      "source": [
        "Problem 1: Bank Account Create a class representing a bank account with attributes like account number, account holder name, and balance. Implement methods to deposit and withdraw money from the account."
      ],
      "metadata": {
        "id": "NGBgx01zWTw9"
      }
    },
    {
      "cell_type": "code",
      "execution_count": null,
      "metadata": {
        "colab": {
          "base_uri": "https://localhost:8080/"
        },
        "id": "I2pRPHTqVYjI",
        "outputId": "f6aee380-6695-4841-a65a-89774c6581c9"
      },
      "outputs": [
        {
          "output_type": "stream",
          "name": "stdout",
          "text": [
            "Deposited 1000. \n",
            "New balance: 1000.0\n",
            "Withdrew 500. \n",
            "New balance: 500.0\n",
            "Deposited 200. \n",
            "New balance: 700.0\n"
          ]
        }
      ],
      "source": [
        "class BankAccount:\n",
        "    def __init__(self, account_number, account_holder_name, balance=0.0):\n",
        "        self.account_number = account_number\n",
        "        self.account_holder_name = account_holder_name\n",
        "        self.balance = balance\n",
        "\n",
        "    def deposit(self, amount):\n",
        "        if amount > 0:\n",
        "            self.balance += amount\n",
        "            print(f\"Deposited {amount}. \\nNew balance: {self.balance}\")\n",
        "        else:\n",
        "            print(\"Invalid deposit amount. Please enter a positive value.\")\n",
        "\n",
        "    def withdraw(self, amount):\n",
        "        if amount > 0:\n",
        "            if amount <= self.balance:\n",
        "                self.balance -= amount\n",
        "                print(f\"Withdrew {amount}. \\nNew balance: {self.balance}\")\n",
        "            else:\n",
        "                print(\"Insufficient funds. Cannot withdraw.\")\n",
        "        else:\n",
        "            print(\"Invalid withdrawal amount. Please enter a positive value.\")\n",
        "\n",
        "    def get_balance(self):\n",
        "        return self.balance\n",
        "\n",
        "account = BankAccount(\"123456789\", \"John Doe\")\n",
        "account.deposit(1000)\n",
        "account.withdraw(500)\n",
        "account.deposit(200)"
      ]
    },
    {
      "cell_type": "markdown",
      "source": [
        "Problem 2: Employee Management Create a class representing an employee with attributes like employee ID, name, and salary. Implement methods to calculate the yearly bonus and display employee details."
      ],
      "metadata": {
        "id": "L8BERs3QXM0R"
      }
    },
    {
      "cell_type": "code",
      "source": [
        "class Employee:\n",
        "    def __init__(self, employee_id, name, salary):\n",
        "        self.employee_id = employee_id\n",
        "        self.name = name\n",
        "        self.salary = salary\n",
        "\n",
        "    def calculate_yearly_bonus(self, bonus_percentage):\n",
        "        if bonus_percentage >= 0:\n",
        "            yearly_bonus = (bonus_percentage / 100) * self.salary\n",
        "            return yearly_bonus\n",
        "        else:\n",
        "            return 0\n",
        "\n",
        "    def display_employee_details(self):\n",
        "        print(f\"Employee ID: {self.employee_id}\")\n",
        "        print(f\"Name: {self.name}\")\n",
        "        print(f\"Salary: {self.salary}\")\n",
        "\n",
        "employee = Employee(\"E12345\", \"John Doe\", 50000.0)\n",
        "employee.display_employee_details()\n",
        "bonus_percentage = 10\n",
        "yearly_bonus = employee.calculate_yearly_bonus(bonus_percentage)\n",
        "print(f\"Yearly Bonus: {yearly_bonus}\")\n"
      ],
      "metadata": {
        "colab": {
          "base_uri": "https://localhost:8080/"
        },
        "id": "qa3_1zA0WnSZ",
        "outputId": "031baeeb-e92d-4cdd-8e9a-1235f92d0974"
      },
      "execution_count": null,
      "outputs": [
        {
          "output_type": "stream",
          "name": "stdout",
          "text": [
            "Employee ID: E12345\n",
            "Name: John Doe\n",
            "Salary: 50000.0\n",
            "Yearly Bonus: 5000.0\n"
          ]
        }
      ]
    },
    {
      "cell_type": "markdown",
      "source": [
        "Problem 3: Vehicle Rental Create a class representing a vehicle rental system. Implement methods to rent a vehicle, return a vehicle, and display available vehicles."
      ],
      "metadata": {
        "id": "fR1xTPdAZRUN"
      }
    },
    {
      "cell_type": "code",
      "source": [
        "class VehicleRentalSystem:\n",
        "\n",
        "    def __init__(self):\n",
        "        self.available_vehicles = []\n",
        "        self.rented_vehicles = []\n",
        "\n",
        "    def add_vehicle(self, vehicle_id, vehicle_name):\n",
        "      vehicle={\n",
        "          \"vehicle_id\": vehicle_id,\n",
        "          \"vehicle_name\": vehicle_name,\n",
        "      }\n",
        "      if vehicle_id not in self.available_vehicles:\n",
        "        self.available_vehicles.append(vehicle)\n",
        "        print(f\"Added {vehicle_name}, ID {vehicle_id}\")\n",
        "      else:\n",
        "        print(f\"Vehicle with ID {vehicle_id} exists.\")\n",
        "\n",
        "    def rent_vehicle(self, vehicle_id):\n",
        "        for vehicle in self.available_vehicles:\n",
        "          if vehicle[\"vehicle_id\"] == vehicle_id:\n",
        "            self.rented_vehicles.append(vehicle)\n",
        "            self.available_vehicles.remove(vehicle)\n",
        "            v_name = vehicle[\"vehicle_name\"]\n",
        "            print(f\"Rented {v_name}, ID {vehicle_id}.\")\n",
        "        else:\n",
        "            print(f\"Vehicle with ID {vehicle_id} unavailable.\")\n",
        "\n",
        "    def return_vehicle(self, vehicle_id):\n",
        "        for vehicle in self.rented_vehicles:\n",
        "          if vehicle[\"vehicle_id\"] == vehicle_id:\n",
        "            v_name = vehicle[\"vehicle_name\"]\n",
        "            print(f\"Returned {v_name}, ID {vehicle_id}.\")\n",
        "            self.available_vehicles.append(vehicle)\n",
        "            self.rented_vehicles.remove(vehicle)\n",
        "        else:\n",
        "            print(f\"Vehicle with ID {vehicle_id} is not currently rented.\")\n",
        "\n",
        "    def display_available_vehicles(self):\n",
        "        print(\"Available Vehicles:\")\n",
        "        for vehicle in self.available_vehicles:\n",
        "          v_name = vehicle[\"vehicle_name\"]\n",
        "          v_id = vehicle[\"vehicle_id\"]\n",
        "          print(f\"ID: {v_id}, Name: {v_name}\")\n",
        "\n",
        "rental_system = VehicleRentalSystem()\n",
        "\n",
        "rental_system.add_vehicle(\"V001\", \"Car\")\n",
        "rental_system.add_vehicle(\"V003\", \"Bike\")\n",
        "\n",
        "rental_system.display_available_vehicles()\n",
        "\n",
        "rental_system.rent_vehicle(\"V003\")\n",
        "\n",
        "rental_system.display_available_vehicles()\n"
      ],
      "metadata": {
        "colab": {
          "base_uri": "https://localhost:8080/"
        },
        "id": "cTWcx9UtZSSO",
        "outputId": "8aa9a2f2-17a3-4e41-ebf6-fd6264a4f412"
      },
      "execution_count": null,
      "outputs": [
        {
          "output_type": "stream",
          "name": "stdout",
          "text": [
            "Added Car, ID V001\n",
            "Added Bike, ID V003\n",
            "Available Vehicles:\n",
            "ID: V001, Name: Car\n",
            "ID: V003, Name: Bike\n",
            "Rented Bike, ID V003.\n",
            "Vehicle with ID V003 unavailable.\n",
            "Available Vehicles:\n",
            "ID: V001, Name: Car\n"
          ]
        }
      ]
    },
    {
      "cell_type": "markdown",
      "source": [
        "Problem 4: Library Catalog Create classes representing a library and a book. Implement methods to add books to the library, borrow books, and display available books."
      ],
      "metadata": {
        "id": "oTVs_Tj_hK3D"
      }
    },
    {
      "cell_type": "code",
      "source": [
        "class Book:\n",
        "    def __init__(self, book_id, title, author):\n",
        "        self.book_id = book_id\n",
        "        self.title = title\n",
        "        self.author = author\n",
        "        self.available = True\n",
        "\n",
        "    def __str__(self):\n",
        "        return f\"Book ID: {self.book_id}, Title: {self.title}, Author: {self.author}, Available: {'Yes' if self.available else 'No'}\"\n",
        "\n",
        "\n",
        "class Library:\n",
        "    def __init__(self):\n",
        "        self.books = {}\n",
        "\n",
        "    def add_book(self, book):\n",
        "        if book.book_id not in self.books:\n",
        "            self.books[book.book_id] = book\n",
        "            print(f\"Added book '{book.title}' to the library.\")\n",
        "        else:\n",
        "            print(f\"Book with ID {book.book_id} already exists in the library.\")\n",
        "\n",
        "    def borrow_book(self, book_id):\n",
        "        if book_id in self.books:\n",
        "            book = self.books[book_id]\n",
        "            if book.available:\n",
        "                book.available = False\n",
        "                print(f\"Borrowed book '{book.title}'.\")\n",
        "            else:\n",
        "                print(f\"Book '{book.title}' is not available for borrowing.\")\n",
        "        else:\n",
        "            print(f\"Book with ID {book_id} is not found in the library.\")\n",
        "\n",
        "    def display_available_books(self):\n",
        "        print(\"Available Books:\")\n",
        "        for book in self.books.values():\n",
        "            if book.available:\n",
        "                print(book)\n",
        "\n",
        "\n",
        "library = Library()\n",
        "\n",
        "book1 = Book(\"B001\", \"Harry Potter and the Sorcerer's Stone\", \"J.K. Rowling\")\n",
        "book2 = Book(\"B002\", \"To Kill a Mockingbird\", \"Harper Lee\")\n",
        "book3 = Book(\"B003\", \"The Great Gatsby\", \"F. Scott Fitzgerald\")\n",
        "\n",
        "library.add_book(book1)\n",
        "library.add_book(book2)\n",
        "library.add_book(book3)\n",
        "\n",
        "library.display_available_books()\n",
        "\n",
        "library.borrow_book(\"B001\")\n",
        "library.borrow_book(\"B002\")\n",
        "\n",
        "library.display_available_books()\n"
      ],
      "metadata": {
        "colab": {
          "base_uri": "https://localhost:8080/"
        },
        "id": "q17hcOTwhLzz",
        "outputId": "43c33fa5-8026-48c2-eed0-ce7fe55a56b3"
      },
      "execution_count": null,
      "outputs": [
        {
          "output_type": "stream",
          "name": "stdout",
          "text": [
            "Added book 'Harry Potter and the Sorcerer's Stone' to the library.\n",
            "Added book 'To Kill a Mockingbird' to the library.\n",
            "Added book 'The Great Gatsby' to the library.\n",
            "Available Books:\n",
            "Book ID: B001, Title: Harry Potter and the Sorcerer's Stone, Author: J.K. Rowling, Available: Yes\n",
            "Book ID: B002, Title: To Kill a Mockingbird, Author: Harper Lee, Available: Yes\n",
            "Book ID: B003, Title: The Great Gatsby, Author: F. Scott Fitzgerald, Available: Yes\n",
            "Borrowed book 'Harry Potter and the Sorcerer's Stone'.\n",
            "Borrowed book 'To Kill a Mockingbird'.\n",
            "Available Books:\n",
            "Book ID: B003, Title: The Great Gatsby, Author: F. Scott Fitzgerald, Available: Yes\n"
          ]
        }
      ]
    },
    {
      "cell_type": "markdown",
      "source": [
        "Problem 5: Product Inventory Create classes representing a product and an inventory system. Implement methods to add products to the inventory, update product quantity, and display available products."
      ],
      "metadata": {
        "id": "41Pzeas_nzIt"
      }
    },
    {
      "cell_type": "code",
      "source": [
        "class Product:\n",
        "  def __init__(self, id, name, price, quantity):\n",
        "    self.id = id\n",
        "    self.name = name\n",
        "    self.price = price\n",
        "    self.quantity = quantity\n",
        "\n",
        "  def __str__(self):\n",
        "    return f\"ID: {self.id} -- Name: {self.name} -- Price: {self.price} -- Quantity: {self.quantity}\"\n",
        "\n",
        "class InventorySystem:\n",
        "  def __init__(self):\n",
        "    self.products = {}\n",
        "\n",
        "  def add_product(self, product):\n",
        "    if product.id in self.products:\n",
        "      print(\"Product already exists\")\n",
        "    else:\n",
        "      self.products[product.id] = product\n",
        "\n",
        "  def update_product(self, product_id, new_quantity):\n",
        "    if product_id not in self.products:\n",
        "      print(\"Product is not present.\")\n",
        "    else:\n",
        "      self.products[product_id].quantity = new_quantity\n",
        "\n",
        "  def display_products(self):\n",
        "    if len(self.products)==0:\n",
        "      print(\"inventory empty.\")\n",
        "    else:\n",
        "      for product in self.products.values():\n",
        "        print(product)\n",
        "\n",
        "inventory = InventorySystem()\n",
        "\n",
        "p1 = Product(1, \"a\", 50, 100)\n",
        "p2 = Product(2, \"b\", 20, 50)\n",
        "p3 = Product(3, \"c\", 80, 20)\n",
        "\n",
        "inventory.add_product(p1)\n",
        "inventory.add_product(p2)\n",
        "inventory.add_product(p3)\n",
        "\n",
        "inventory.update_product(3,200)\n",
        "\n",
        "inventory.display_products()"
      ],
      "metadata": {
        "id": "lEz2pfDEn0TV",
        "colab": {
          "base_uri": "https://localhost:8080/"
        },
        "outputId": "0796fce8-cac8-4b3d-a57c-4efb54fb48a2"
      },
      "execution_count": 3,
      "outputs": [
        {
          "output_type": "stream",
          "name": "stdout",
          "text": [
            "ID: 1 -- Name: a -- Price: 50 -- Quantity: 100\n",
            "ID: 2 -- Name: b -- Price: 20 -- Quantity: 50\n",
            "ID: 3 -- Name: c -- Price: 80 -- Quantity: 200\n"
          ]
        }
      ]
    },
    {
      "cell_type": "markdown",
      "source": [
        "Problem 6: Shape Calculation Create a class representing a shape with attributes like length, width, and height. Implement methods to calculate the area and perimeter of the shape."
      ],
      "metadata": {
        "id": "11aFWLwfXy38"
      }
    },
    {
      "cell_type": "code",
      "source": [
        "## For simplicity's sake, we assume the shape is a Cuboid or Cube\n",
        "\n",
        "class Shape:\n",
        "  def __init__(self, length, width, height):\n",
        "    self.length = length\n",
        "    self.width = width\n",
        "    self.height = height\n",
        "\n",
        "  def __str__(self):\n",
        "    return f\"Shape: Cuboid -- Length: {self.length} -- Width: {self.width} -- Height: {self.height}\"\n",
        "\n",
        "  def Area(self):\n",
        "    area = 2*(self.length*self.width + self.width*self.height + self.length*self.height)\n",
        "    return area\n",
        "\n",
        "  def perimeter(self):\n",
        "    return 4*(self.length + self.width + self.height)\n",
        "\n",
        "\n",
        "cuboid = Shape(50, 20, 10)\n",
        "print(cuboid)\n",
        "print(cuboid.Area())\n",
        "print(cuboid.perimeter())"
      ],
      "metadata": {
        "colab": {
          "base_uri": "https://localhost:8080/"
        },
        "id": "GKqiV_TGXwSC",
        "outputId": "f1ad128c-ae8b-4a6d-db09-0dc3b83ae95a"
      },
      "execution_count": 1,
      "outputs": [
        {
          "output_type": "stream",
          "name": "stdout",
          "text": [
            "Shape: Cuboid -- Length: 50 -- Width: 20 -- Height: 10\n",
            "3400\n",
            "320\n"
          ]
        }
      ]
    },
    {
      "cell_type": "markdown",
      "source": [
        "Problem 7: Student Management Create a class representing a student with attributes like student ID, name, and grades. Implement methods to calculate the average grade and display student details."
      ],
      "metadata": {
        "id": "H6D6zBRU3Vtq"
      }
    },
    {
      "cell_type": "code",
      "source": [
        "class Student:\n",
        "    def __init__(self, student_id, name, grades):\n",
        "        self.student_id = student_id\n",
        "        self.name = name\n",
        "        self.grades = grades\n",
        "\n",
        "    def calculate_average_grade(self):\n",
        "        if len(self.grades) == 0:\n",
        "            return 0\n",
        "        return sum(self.grades) / len(self.grades)\n",
        "\n",
        "    def display_student_details(self):\n",
        "        print(f\"ID: {self.student_id} -- Name: {self.name} -- grades: {self.grades}\")\n",
        "\n",
        "student1 = Student(1, \"Alice\", [85, 92, 78, 90, 88])\n",
        "student2 = Student(2, \"Bob\", [76, 88, 92, 80, 94])\n",
        "student3 = Student(3, \"Charlie\", [92, 95, 89, 78, 86])\n",
        "\n",
        "student1.display_student_details()\n",
        "\n",
        "student2.display_student_details()\n",
        "\n",
        "student3.display_student_details()\n"
      ],
      "metadata": {
        "colab": {
          "base_uri": "https://localhost:8080/"
        },
        "id": "NhikpOyR3YUE",
        "outputId": "edc24936-a53f-4ec6-ada1-cd43ea88d8fb"
      },
      "execution_count": 6,
      "outputs": [
        {
          "output_type": "stream",
          "name": "stdout",
          "text": [
            "ID: 1 -- Name: Alice -- grades: [85, 92, 78, 90, 88]\n",
            "ID: 2 -- Name: Bob -- grades: [76, 88, 92, 80, 94]\n",
            "ID: 3 -- Name: Charlie -- grades: [92, 95, 89, 78, 86]\n"
          ]
        }
      ]
    },
    {
      "cell_type": "markdown",
      "source": [
        "Problem 8: Email Management Create a class representing an email with attributes like sender, recipient, and subject. Implement methods to send an email and display email details."
      ],
      "metadata": {
        "id": "43ohB1Pc4Y1i"
      }
    },
    {
      "cell_type": "code",
      "source": [
        "class Email:\n",
        "  def __init__(self, sender, recipient, subject):\n",
        "    self.sender = sender\n",
        "    self.recipient = recipient\n",
        "    self.subject = subject\n",
        "\n",
        "  def send(self):\n",
        "    print(f\"-- Email sent --\")\n",
        "\n",
        "  def display_email_details(self):\n",
        "    print(\"Sent by: \", self.sender)\n",
        "    print(\"To: \", self.recipient)\n",
        "    print(\"Subject: \", self.subject)\n",
        "\n",
        "mail1 = Email(\"tom\",\"jerry\",\"regarding new policies\")\n",
        "mail2 = Email(\"alice\", \"bob\", \"regarding renovations\")\n",
        "\n",
        "mail1.send()\n",
        "mail1.display_email_details()\n",
        "print()\n",
        "mail2.send()\n",
        "mail2.display_email_details()"
      ],
      "metadata": {
        "colab": {
          "base_uri": "https://localhost:8080/"
        },
        "id": "HyHKaoOL4Zsq",
        "outputId": "6fb82f8b-01ef-42b7-fb0b-7f35edabe9a8"
      },
      "execution_count": 15,
      "outputs": [
        {
          "output_type": "stream",
          "name": "stdout",
          "text": [
            "-- Email sent --\n",
            "Sent by:  tom\n",
            "To:  jerry\n",
            "Subject:  regarding new policies\n",
            "\n",
            "-- Email sent --\n",
            "Sent by:  alice\n",
            "To:  bob\n",
            "Subject:  regarding renovations\n"
          ]
        }
      ]
    },
    {
      "cell_type": "markdown",
      "source": [
        "Problem 9: Social Media Profile Create a class representing a social media profile with attributes like username and posts. Implement methods to add posts, display posts, and search for posts by keyword."
      ],
      "metadata": {
        "id": "ZxaX9cHR6ayf"
      }
    },
    {
      "cell_type": "code",
      "source": [
        "class SocialMediaProfile:\n",
        "    def __init__(self, username):\n",
        "      self.username = username\n",
        "      self.posts = []\n",
        "\n",
        "    def add_post(self, post):\n",
        "      self.posts.append(post)\n",
        "\n",
        "    def display_posts(self):\n",
        "      if not self.posts:\n",
        "          print(f\"{self.username}'s posts: No posts yet.\")\n",
        "      else:\n",
        "          print(f\"{self.username}'s posts:\")\n",
        "          for post in self.posts:\n",
        "              print(f\"-- {post}\")\n",
        "\n",
        "    def search_posts(self, keyword):\n",
        "      # matching_posts = []\n",
        "      # for post in self.posts:\n",
        "      #   if keyword in post:\n",
        "      #     matching_posts.append(post)\n",
        "      matching_posts = [post for post in self.posts if keyword in post]\n",
        "      if not matching_posts:\n",
        "          print(f\"No posts containing '{keyword}' found in {self.username}'s posts.\")\n",
        "      else:\n",
        "          print(f\"Posts by {self.username} containing '{keyword}':\")\n",
        "          for post in matching_posts:\n",
        "              print(f\"-- {post}\")\n",
        "\n",
        "\n",
        "profile1 = SocialMediaProfile(\"Alice\")\n",
        "profile2 = SocialMediaProfile(\"Bob\")\n",
        "\n",
        "profile1.add_post(\"Enjoying a sunny day at the beach!\")\n",
        "profile1.add_post(\"New book recommendation: 'The Silent Stars'\")\n",
        "profile2.add_post(\"Just finished a great workout.\")\n",
        "profile2.add_post(\"Exploring the local food scene today.\")\n",
        "\n",
        "profile1.display_posts()\n",
        "print()\n",
        "profile2.display_posts()\n",
        "\n",
        "print()\n",
        "profile1.search_posts(\"book\")\n",
        "print()\n",
        "profile2.search_posts(\"food\")\n"
      ],
      "metadata": {
        "colab": {
          "base_uri": "https://localhost:8080/"
        },
        "id": "9sTfHab76b8b",
        "outputId": "17b30e3f-03f5-4002-c3a0-555364104739"
      },
      "execution_count": 17,
      "outputs": [
        {
          "output_type": "stream",
          "name": "stdout",
          "text": [
            "Alice's posts:\n",
            "-- Enjoying a sunny day at the beach!\n",
            "-- New book recommendation: 'The Silent Stars'\n",
            "\n",
            "Bob's posts:\n",
            "-- Just finished a great workout.\n",
            "-- Exploring the local food scene today.\n",
            "\n",
            "Posts by Alice containing 'book':\n",
            "-- New book recommendation: 'The Silent Stars'\n",
            "\n",
            "Posts by Bob containing 'food':\n",
            "-- Exploring the local food scene today.\n"
          ]
        }
      ]
    },
    {
      "cell_type": "markdown",
      "source": [
        "Problem 10: ToDo List Create a class representing a ToDo list with attributes like tasks and due dates. Implement methods to add tasks, mark tasks as completed, and display pending tasks."
      ],
      "metadata": {
        "id": "IfJOp0wu8KTu"
      }
    },
    {
      "cell_type": "code",
      "source": [
        "class Todo:\n",
        "  def __init__(self):\n",
        "    self.tasks = []\n",
        "\n",
        "  def add_tasks(self, task, date):\n",
        "    my_dict = {\"Task\":task, \"Due_date\": date, \"Completed\": False}\n",
        "    self.tasks.append(my_dict)\n",
        "\n",
        "  def mark_done(self, task_done):\n",
        "    for task in self.tasks:\n",
        "      if task['Task'] == task_done:\n",
        "        task['Completed'] == True\n",
        "        print(f\"{task['Task']} completed.\")\n",
        "\n",
        "  def pending(self):\n",
        "    for task in self.tasks:\n",
        "      if task['Completed'] == False:\n",
        "        print(f\"{task['Task']} not completed.\")\n",
        "\n",
        "todo_list = Todo()\n",
        "todo_list.add_tasks(\"chores\", 10)\n",
        "todo_list.add_tasks(\"grocery\", 12)\n",
        "\n",
        "todo_list.pending()\n",
        "print()\n",
        "todo_list.mark_done(\"chores\")\n",
        "print()\n",
        "todo_list.pending()\n",
        "\n"
      ],
      "metadata": {
        "colab": {
          "base_uri": "https://localhost:8080/"
        },
        "id": "thQlLp0q8LKm",
        "outputId": "cfe380c3-2460-4ac0-b7cd-132bca177ddc"
      },
      "execution_count": 21,
      "outputs": [
        {
          "output_type": "stream",
          "name": "stdout",
          "text": [
            "chores not completed.\n",
            "grocery not completed.\n",
            "\n",
            "chores completed.\n",
            "\n",
            "chores not completed.\n",
            "grocery not completed.\n"
          ]
        }
      ]
    }
  ]
}