{
 "cells": [
  {
   "cell_type": "code",
   "execution_count": 3,
   "id": "d37c9fab-0e41-43dd-b9c6-20b5adf5f35d",
   "metadata": {},
   "outputs": [
    {
     "name": "stdout",
     "output_type": "stream",
     "text": [
      "before swapping: x = 10 y = 20\n",
      "after swapping: x = 20 y = 10\n"
     ]
    }
   ],
   "source": [
    "#basic variable based questions:\n",
    "#1.\n",
    "x = 10\n",
    "y = 20\n",
    "print(\"before swapping: x =\",x,\"y =\",y)\n",
    "x,y = y,x\n",
    "print(\"after swapping: x =\",x,\"y =\",y)"
   ]
  },
  {
   "cell_type": "code",
   "execution_count": 5,
   "id": "8294f366-ec90-4c09-9c34-3c79103306b1",
   "metadata": {},
   "outputs": [
    {
     "name": "stdout",
     "output_type": "stream",
     "text": [
      "enter length: 10\n",
      "enter breadth: 20\n",
      "area = 200\n"
     ]
    }
   ],
   "source": [
    "#2.\n",
    "l = int(input(\"enter length: \"))\n",
    "b = int(input(\"enter breadth: \"))\n",
    "area = l*b\n",
    "print(\"area =\",area)"
   ]
  },
  {
   "cell_type": "code",
   "execution_count": 6,
   "id": "06919a24",
   "metadata": {},
   "outputs": [
    {
     "name": "stdout",
     "output_type": "stream",
     "text": [
      "Enter temperature in Celsius: 30\n",
      "temperature in farenheit:  86.0\n"
     ]
    }
   ],
   "source": [
    "#3.\n",
    "c = float(input(\"Enter temperature in Celsius: \"))\n",
    "f = (c * 9/5) + 32\n",
    "print(\"temperature in farenheit: \",f)"
   ]
  },
  {
   "cell_type": "code",
   "execution_count": 4,
   "id": "4a9d222e",
   "metadata": {},
   "outputs": [
    {
     "name": "stdout",
     "output_type": "stream",
     "text": [
      "abcd\n",
      "4\n"
     ]
    }
   ],
   "source": [
    "#String based questions\n",
    "#1.\n",
    "s = input()\n",
    "print(len(s))"
   ]
  },
  {
   "cell_type": "code",
   "execution_count": 5,
   "id": "63d2a7d1",
   "metadata": {},
   "outputs": [
    {
     "name": "stdout",
     "output_type": "stream",
     "text": [
      "abcd\n",
      "1\n"
     ]
    }
   ],
   "source": [
    "#2.\n",
    "s = input()\n",
    "count=0\n",
    "for i in s:\n",
    "    c = i.lower()\n",
    "    if c=='a' or c=='e' or c=='i' or c=='o' or c=='u': \n",
    "        count = count + 1\n",
    "print(count)"
   ]
  },
  {
   "cell_type": "code",
   "execution_count": 9,
   "id": "b52fa423",
   "metadata": {},
   "outputs": [
    {
     "name": "stdout",
     "output_type": "stream",
     "text": [
      "abcd\n",
      "dcba\n"
     ]
    }
   ],
   "source": [
    "#3.\n",
    "s = input()\n",
    "s = s[::-1]\n",
    "print(s)"
   ]
  },
  {
   "cell_type": "code",
   "execution_count": 13,
   "id": "2dff2642",
   "metadata": {},
   "outputs": [
    {
     "name": "stdout",
     "output_type": "stream",
     "text": [
      "abcba\n",
      "palindrome\n"
     ]
    }
   ],
   "source": [
    "#4.\n",
    "s = input()\n",
    "if s == s[::-1]:\n",
    "    print(\"palindrome\")\n",
    "else:\n",
    "    print(\"not palindrome\")"
   ]
  },
  {
   "cell_type": "code",
   "execution_count": 15,
   "id": "e47f6016",
   "metadata": {},
   "outputs": [
    {
     "name": "stdout",
     "output_type": "stream",
     "text": [
      "abc def ijk\n",
      "abcdefijk\n"
     ]
    }
   ],
   "source": [
    "#5.\n",
    "s = input()\n",
    "new_s = s.replace(\" \", \"\")\n",
    "print(new_s)"
   ]
  },
  {
   "cell_type": "code",
   "execution_count": null,
   "id": "9e224065",
   "metadata": {},
   "outputs": [],
   "source": []
  },
  {
   "cell_type": "code",
   "execution_count": null,
   "id": "a983af12",
   "metadata": {},
   "outputs": [],
   "source": []
  }
 ],
 "metadata": {
  "kernelspec": {
   "display_name": "Python 3 (ipykernel)",
   "language": "python",
   "name": "python3"
  },
  "language_info": {
   "codemirror_mode": {
    "name": "ipython",
    "version": 3
   },
   "file_extension": ".py",
   "mimetype": "text/x-python",
   "name": "python",
   "nbconvert_exporter": "python",
   "pygments_lexer": "ipython3",
   "version": "3.8.16"
  }
 },
 "nbformat": 4,
 "nbformat_minor": 5
}
