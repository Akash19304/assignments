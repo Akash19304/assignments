{
  "nbformat": 4,
  "nbformat_minor": 0,
  "metadata": {
    "colab": {
      "provenance": []
    },
    "kernelspec": {
      "name": "python3",
      "display_name": "Python 3"
    },
    "language_info": {
      "name": "python"
    }
  },
  "cells": [
    {
      "cell_type": "code",
      "execution_count": 2,
      "metadata": {
        "colab": {
          "base_uri": "https://localhost:8080/"
        },
        "id": "2_LJRjoIb-Ae",
        "outputId": "cc070369-678a-438d-b45f-94ccccac282f"
      },
      "outputs": [
        {
          "output_type": "stream",
          "name": "stdout",
          "text": [
            "['freedom_fighter', 'Mohan', 'dash', 'karam', 'chandra', 'gandhi', 'Bapu']\n",
            "['Mohan', 'dash', 'karam', 'chandra', 'gandhi', 'Bapu', 'NetaJi', 'Bose']\n",
            "['Mohan', 'dash', 'karam', 'chandra', 'gandi', 'Bapuji']\n"
          ]
        }
      ],
      "source": [
        "# 1.2\n",
        "# a\n",
        "name = [\"Mohan\", \"dash\", \"karam\", \"chandra\", \"gandhi\", \"Bapu\"]\n",
        "name.insert(0, \"freedom_fighter\")\n",
        "print(name)\n",
        "\n",
        "\n",
        "# b\n",
        "# output: 8\n",
        "\n",
        "# c\n",
        "\n",
        "name = [\"Mohan\", \"dash\", \"karam\", \"chandra\", \"gandhi\", \"Bapu\"]\n",
        "name.extend([\"NetaJi\", \"Bose\"])\n",
        "print(name)\n",
        "\n",
        "\n",
        "# d\n",
        "name = [\"Bapuji\", \"dash\", \"karam\", \"chandra\", \"gandi\", \"Mohan\"]\n",
        "temp = name[-1]  # 'Mohan'\n",
        "name[-1] = name[0]  # 'Mohan' -> 'Bapuji'\n",
        "name[0] = temp  # 'Bapuji' -> 'Mohan'\n",
        "print(name)\n",
        "\n"
      ]
    },
    {
      "cell_type": "markdown",
      "source": [
        "1.6: Write a program to display the appropriate message as per the color of signal(RED-Stop/Yellow-Stay/\n",
        "Green-Go) at the road crossing."
      ],
      "metadata": {
        "id": "1Lhte2KbckNN"
      }
    },
    {
      "cell_type": "code",
      "source": [
        "# Get the signal color from the user\n",
        "signal_color = input(\"Enter the color of the traffic signal (RED/YELLOW/GREEN): \").strip().upper()\n",
        "\n",
        "# Display appropriate message based on the signal color\n",
        "if signal_color == \"RED\":\n",
        "    print(\"STOP\")\n",
        "elif signal_color == \"YELLOW\":\n",
        "    print(\"STAY\")\n",
        "elif signal_color == \"GREEN\":\n",
        "    print(\"GO\")\n",
        "else:\n",
        "    print(\"Invalid color! Please enter RED, YELLOW, or GREEN.\")\n"
      ],
      "metadata": {
        "colab": {
          "base_uri": "https://localhost:8080/"
        },
        "id": "4D83BYJ0cYdE",
        "outputId": "67136a00-79b0-4907-ffde-99e07a792e12"
      },
      "execution_count": 3,
      "outputs": [
        {
          "output_type": "stream",
          "name": "stdout",
          "text": [
            "Enter the color of the traffic signal (RED/YELLOW/GREEN): RED\n",
            "STOP\n"
          ]
        }
      ]
    },
    {
      "cell_type": "markdown",
      "source": [
        "1.7: Write a program to create a simple calculator performing only four basic operations(+,-,/,*) ."
      ],
      "metadata": {
        "id": "VltEzsoacruP"
      }
    },
    {
      "cell_type": "code",
      "source": [
        "# Simple Calculator Program\n",
        "\n",
        "def calculator():\n",
        "    # Take user input for the first number\n",
        "    num1 = float(input(\"Enter the first number: \"))\n",
        "\n",
        "    # Take user input for the second number\n",
        "    num2 = float(input(\"Enter the second number: \"))\n",
        "\n",
        "    # Display the operations menu\n",
        "    print(\"Select the operation you want to perform:\")\n",
        "    print(\"1. Addition (+)\")\n",
        "    print(\"2. Subtraction (-)\")\n",
        "    print(\"3. Multiplication (*)\")\n",
        "    print(\"4. Division (/)\")\n",
        "\n",
        "    # Take user input for the operation\n",
        "    operation = input(\"Enter the operation (1/2/3/4): \")\n",
        "\n",
        "    # Perform the operation based on user input\n",
        "    if operation == '1':\n",
        "        result = num1 + num2\n",
        "        print(f\"The result of {num1} + {num2} = {result}\")\n",
        "    elif operation == '2':\n",
        "        result = num1 - num2\n",
        "        print(f\"The result of {num1} - {num2} = {result}\")\n",
        "    elif operation == '3':\n",
        "        result = num1 * num2\n",
        "        print(f\"The result of {num1} * {num2} = {result}\")\n",
        "    elif operation == '4':\n",
        "        # Handle division by zero\n",
        "        if num2 != 0:\n",
        "            result = num1 / num2\n",
        "            print(f\"The result of {num1} / {num2} = {result}\")\n",
        "        else:\n",
        "            print(\"Error: Division by zero is not allowed.\")\n",
        "    else:\n",
        "        print(\"Invalid operation! Please select a valid operation.\")\n",
        "\n",
        "# Call the calculator function\n",
        "calculator()\n"
      ],
      "metadata": {
        "colab": {
          "base_uri": "https://localhost:8080/"
        },
        "id": "3HAiUpYfcnW-",
        "outputId": "5570cc94-80f5-4eae-9942-55a3e7877bba"
      },
      "execution_count": 4,
      "outputs": [
        {
          "output_type": "stream",
          "name": "stdout",
          "text": [
            "Enter the first number: 4\n",
            "Enter the second number: 3\n",
            "Select the operation you want to perform:\n",
            "1. Addition (+)\n",
            "2. Subtraction (-)\n",
            "3. Multiplication (*)\n",
            "4. Division (/)\n",
            "Enter the operation (1/2/3/4): 1\n",
            "The result of 4.0 + 3.0 = 7.0\n"
          ]
        }
      ]
    },
    {
      "cell_type": "markdown",
      "source": [
        "1.8: Write a program to find the larger of the three pre-specified numbers using ternary operators."
      ],
      "metadata": {
        "id": "fDcWl4ecc0Xx"
      }
    },
    {
      "cell_type": "code",
      "source": [
        "# Pre-specified numbers\n",
        "num1 = 15\n",
        "num2 = 22\n",
        "num3 = 10\n",
        "\n",
        "# Using ternary operators to find the largest number\n",
        "largest = num1 if (num1 >= num2 and num1 >= num3) else (num2 if num2 >= num3 else num3)\n",
        "\n",
        "# Display the result\n",
        "print(f\"The largest number among {num1}, {num2}, and {num3} is: {largest}\")\n"
      ],
      "metadata": {
        "colab": {
          "base_uri": "https://localhost:8080/"
        },
        "id": "iwAhhiyEcvQh",
        "outputId": "40fa5223-5ee6-43d6-d1f1-1d7b7fcc14b0"
      },
      "execution_count": 5,
      "outputs": [
        {
          "output_type": "stream",
          "name": "stdout",
          "text": [
            "The largest number among 15, 22, and 10 is: 22\n"
          ]
        }
      ]
    },
    {
      "cell_type": "markdown",
      "source": [
        "1.9: Write a program to find the factors of a whole number using a while loop."
      ],
      "metadata": {
        "id": "Qc-seSefc7Zp"
      }
    },
    {
      "cell_type": "code",
      "source": [
        "# Function to find and print the factors of a given number\n",
        "def find_factors(number):\n",
        "    # Start from 1 (the first factor of any whole number)\n",
        "    factor = 1\n",
        "\n",
        "    print(f\"The factors of {number} are:\")\n",
        "\n",
        "    # Use a while loop to find all factors\n",
        "    while factor <= number:\n",
        "        if number % factor == 0:  # Check if factor is a divisor of the number\n",
        "            print(factor)  # Print the factor\n",
        "        factor += 1  # Move to the next number\n",
        "\n",
        "# Input from the user\n",
        "try:\n",
        "    num = int(input(\"Enter a whole number: \"))\n",
        "    if num < 0:\n",
        "        print(\"Please enter a non-negative whole number.\")\n",
        "    else:\n",
        "        find_factors(num)\n",
        "except ValueError:\n",
        "    print(\"Invalid input! Please enter a whole number.\")\n"
      ],
      "metadata": {
        "colab": {
          "base_uri": "https://localhost:8080/"
        },
        "id": "c27R0UDBc4u0",
        "outputId": "12893fab-6e97-438b-9b2a-0f4323ebe1dc"
      },
      "execution_count": 6,
      "outputs": [
        {
          "output_type": "stream",
          "name": "stdout",
          "text": [
            "Enter a whole number: 10\n",
            "The factors of 10 are:\n",
            "1\n",
            "2\n",
            "5\n",
            "10\n"
          ]
        }
      ]
    },
    {
      "cell_type": "markdown",
      "source": [
        "1.10: Write a program to find the sum of all the positive numbers entered by the user. As soon as the user\n",
        "enters a negative number, stop taking in any further input from the user and display the sum ."
      ],
      "metadata": {
        "id": "wvI8hxpedEM5"
      }
    },
    {
      "cell_type": "code",
      "source": [
        "# Function to calculate the sum of positive numbers\n",
        "def sum_positive_numbers():\n",
        "    total_sum = 0  # Initialize the sum to zero\n",
        "\n",
        "    while True:  # Infinite loop to keep taking input\n",
        "        try:\n",
        "            number = float(input(\"Enter a positive number (or a negative number to stop): \"))\n",
        "\n",
        "            if number < 0:  # Check if the number is negative\n",
        "                break  # Exit the loop if a negative number is entered\n",
        "\n",
        "            total_sum += number  # Add the positive number to the total sum\n",
        "        except ValueError:\n",
        "            print(\"Invalid input! Please enter a valid number.\")\n",
        "\n",
        "    print(f\"The sum of all positive numbers entered is: {total_sum}\")\n",
        "\n",
        "# Call the function to execute the program\n",
        "sum_positive_numbers()\n"
      ],
      "metadata": {
        "colab": {
          "base_uri": "https://localhost:8080/"
        },
        "id": "nApk3oiyc_gH",
        "outputId": "36be276e-b035-4441-a385-f008184768d7"
      },
      "execution_count": 7,
      "outputs": [
        {
          "output_type": "stream",
          "name": "stdout",
          "text": [
            "Enter a positive number (or a negative number to stop): 4\n",
            "Enter a positive number (or a negative number to stop): 43\n",
            "Enter a positive number (or a negative number to stop): 2\n",
            "Enter a positive number (or a negative number to stop): 234\n",
            "Enter a positive number (or a negative number to stop): 234\n",
            "Enter a positive number (or a negative number to stop): 2\n",
            "Enter a positive number (or a negative number to stop): -1\n",
            "The sum of all positive numbers entered is: 519.0\n"
          ]
        }
      ]
    },
    {
      "cell_type": "markdown",
      "source": [
        "1.11: Write a program to find prime numbers between 2 to 100 using nested for loops."
      ],
      "metadata": {
        "id": "ENpzVGDedPNi"
      }
    },
    {
      "cell_type": "code",
      "source": [
        "# Function to find prime numbers between 2 and 100\n",
        "def find_prime_numbers():\n",
        "    print(\"Prime numbers between 2 and 100 are:\")\n",
        "    for num in range(2, 101):  # Loop through numbers from 2 to 100\n",
        "        is_prime = True  # Assume the number is prime\n",
        "\n",
        "        # Check for factors of the number\n",
        "        for i in range(2, int(num**0.5) + 1):\n",
        "            if num % i == 0:  # If num is divisible by i, it is not prime\n",
        "                is_prime = False\n",
        "                break  # Exit the inner loop if a factor is found\n",
        "\n",
        "        if is_prime:  # If the number is prime\n",
        "            print(num)  # Print the prime number\n",
        "\n",
        "# Call the function to execute the program\n",
        "find_prime_numbers()\n"
      ],
      "metadata": {
        "colab": {
          "base_uri": "https://localhost:8080/"
        },
        "id": "O2ki_qLSdHic",
        "outputId": "4ae74683-ea81-4547-c696-494028c21997"
      },
      "execution_count": 8,
      "outputs": [
        {
          "output_type": "stream",
          "name": "stdout",
          "text": [
            "Prime numbers between 2 and 100 are:\n",
            "2\n",
            "3\n",
            "5\n",
            "7\n",
            "11\n",
            "13\n",
            "17\n",
            "19\n",
            "23\n",
            "29\n",
            "31\n",
            "37\n",
            "41\n",
            "43\n",
            "47\n",
            "53\n",
            "59\n",
            "61\n",
            "67\n",
            "71\n",
            "73\n",
            "79\n",
            "83\n",
            "89\n",
            "97\n"
          ]
        }
      ]
    },
    {
      "cell_type": "markdown",
      "source": [
        "1.12. Write the programs for the followingM\n",
        "? Accept the marks of the student in five major subjects and display the sameS\n",
        "? Calculate the sum of the marks of all subjects.Divide the total marks by number of subjects (i.e. 5), calculate\n",
        "percentage = total marks/5 and display the percentageS\n",
        "? Find the grade of the student as per the following criteria . Hint: Use Match & case for this.:"
      ],
      "metadata": {
        "id": "l74GePpediXE"
      }
    },
    {
      "cell_type": "code",
      "source": [
        "# Function to calculate the percentage and grade\n",
        "def calculate_grade(marks):\n",
        "    # Calculate total and percentage\n",
        "    total_marks = sum(marks)\n",
        "    percentage = total_marks / len(marks)\n",
        "\n",
        "    # Display total marks and percentage\n",
        "    print(f\"Total Marks: {total_marks}\")\n",
        "    print(f\"Percentage: {percentage:.2f}%\")\n",
        "\n",
        "    # Determine the grade based on percentage using match-case\n",
        "    match percentage:\n",
        "        case p if p > 85:\n",
        "            grade = 'A'\n",
        "        case p if 75 <= p <= 85:\n",
        "            grade = 'B'\n",
        "        case p if 50 <= p < 75:\n",
        "            grade = 'C'\n",
        "        case p if 30 <= p < 50:\n",
        "            grade = 'D'\n",
        "        case p if p < 30:\n",
        "            grade = 'Reappear'\n",
        "\n",
        "    # Display the grade\n",
        "    print(f\"Grade: {grade}\")\n",
        "\n",
        "# Input marks for five subjects\n",
        "marks = []\n",
        "for i in range(5):\n",
        "    mark = float(input(f\"Enter marks for subject {i + 1}: \"))\n",
        "    marks.append(mark)\n",
        "\n",
        "# Call the function to calculate and display the grade\n",
        "calculate_grade(marks)\n"
      ],
      "metadata": {
        "colab": {
          "base_uri": "https://localhost:8080/"
        },
        "id": "ifPDE88zdSw9",
        "outputId": "b5c13a81-aa95-4a01-dd5f-d64bef1acb3e"
      },
      "execution_count": 9,
      "outputs": [
        {
          "output_type": "stream",
          "name": "stdout",
          "text": [
            "Enter marks for subject 1: 90\n",
            "Enter marks for subject 2: 40\n",
            "Enter marks for subject 3: 60\n",
            "Enter marks for subject 4: 60\n",
            "Enter marks for subject 5: 30\n",
            "Total Marks: 280.0\n",
            "Percentage: 56.00%\n",
            "Grade: C\n"
          ]
        }
      ]
    },
    {
      "cell_type": "markdown",
      "source": [
        "1.13. Write a program for VIBGYOR Spectrum based on their Wavelength using.\n",
        "Wavelength Range:"
      ],
      "metadata": {
        "id": "9P0cWWKxd3B0"
      }
    },
    {
      "cell_type": "code",
      "source": [
        "# Function to determine color based on wavelength\n",
        "def determine_color(wavelength):\n",
        "    match wavelength:\n",
        "        case w if 400.0 <= w <= 440.0:\n",
        "            return \"Violet\"\n",
        "        case w if 440.0 < w <= 460.0:\n",
        "            return \"Indigo\"\n",
        "        case w if 460.0 < w <= 500.0:\n",
        "            return \"Blue\"\n",
        "        case w if 500.0 < w <= 570.0:\n",
        "            return \"Green\"\n",
        "        case w if 570.0 < w <= 590.0:\n",
        "            return \"Yellow\"\n",
        "        case w if 590.0 < w <= 620.0:\n",
        "            return \"Orange\"\n",
        "        case w if 620.0 < w <= 720.0:\n",
        "            return \"Red\"\n",
        "        case _:\n",
        "            return \"Wavelength not in VIBGYOR range\"\n",
        "\n",
        "# Input wavelength from the user\n",
        "wavelength = float(input(\"Enter the wavelength (in nm): \"))\n",
        "\n",
        "# Determine the color and display it\n",
        "color = determine_color(wavelength)\n",
        "print(f\"The color for wavelength {wavelength} nm is: {color}\")\n"
      ],
      "metadata": {
        "colab": {
          "base_uri": "https://localhost:8080/"
        },
        "id": "28HQwTZ3dq3I",
        "outputId": "903a350b-ce72-4e46-d87f-67543d786e4a"
      },
      "execution_count": 10,
      "outputs": [
        {
          "output_type": "stream",
          "name": "stdout",
          "text": [
            "Enter the wavelength (in nm): 550\n",
            "The color for wavelength 550.0 nm is: Green\n"
          ]
        }
      ]
    },
    {
      "cell_type": "markdown",
      "source": [
        "1.14.Consider the gravitational interactions between the Earth, Moon, and Sun in our solar system.\n",
        "Given:\n",
        "mass_earth = 5.972e24 # Mass of Earth in kilograms\n",
        "mass_moon = 7.34767309e22 # Mass of Moon in kilograms\n",
        "mass_sun = 1.989e30 # Mass of Sun in kilograms\n",
        "distance_earth_sun = 1.496e11 # Average distance between Earth and Sun in meters\n",
        "distance_moon_earth = 3.844e8 # Average distance between Moon and Earth in meters\n",
        "Tasks\n",
        "/ Calculate the gravitational force between the Earth and the Sun\n",
        "/ Calculate the gravitational force between the Moon and the Earth\n",
        "/ Compare the calculated forces to determine which gravitational force is stronger\n",
        "/ Explain which celestial body (Earth or Moon) is more attracted to the other based on the comparison."
      ],
      "metadata": {
        "id": "zjMiH2wEeG2w"
      }
    },
    {
      "cell_type": "code",
      "source": [
        "# Constants\n",
        "G = 6.674e-11  # Gravitational constant in N m^2/kg^2\n",
        "\n",
        "# Masses in kg\n",
        "mass_earth = 5.972e24  # Mass of Earth\n",
        "mass_moon = 7.34767309e22  # Mass of Moon\n",
        "mass_sun = 1.989e30  # Mass of Sun\n",
        "\n",
        "# Distances in meters\n",
        "distance_earth_sun = 1.496e11  # Distance between Earth and Sun\n",
        "distance_moon_earth = 3.844e8  # Distance between Moon and Earth\n",
        "\n",
        "# Calculate gravitational force between Earth and Sun\n",
        "F_earth_sun = G * mass_earth * mass_sun / (distance_earth_sun ** 2)\n",
        "\n",
        "# Calculate gravitational force between Moon and Earth\n",
        "F_moon_earth = G * mass_moon * mass_earth / (distance_moon_earth ** 2)\n",
        "\n",
        "F_earth_sun, F_moon_earth\n"
      ],
      "metadata": {
        "colab": {
          "base_uri": "https://localhost:8080/"
        },
        "id": "7N2Ndnepd6G8",
        "outputId": "77f40900-0657-4fc1-d70f-8df42e28b680"
      },
      "execution_count": 11,
      "outputs": [
        {
          "output_type": "execute_result",
          "data": {
            "text/plain": [
              "(3.542236855858046e+22, 1.9819334566450407e+20)"
            ]
          },
          "metadata": {},
          "execution_count": 11
        }
      ]
    },
    {
      "cell_type": "markdown",
      "source": [
        "2. Design and implement a Python program for managing student information using object-oriented\n",
        "principles. Create a class called Student with encapsulated attributes for name, age, and roll number.\n",
        "Implement getter and setter methods for these attributes. Additionally, provide methods to display student\n",
        "information and update student details.\n",
        "Tasks\n",
        "- Define the Student class with encapsulated attributes\n",
        "- Implement getter and setter methods for the attributes\n",
        "- Write methods to display student information and update details\n",
        "- Create instances of the Student class and test the implemented functionality.\n"
      ],
      "metadata": {
        "id": "lMNeLe6VeUkh"
      }
    },
    {
      "cell_type": "code",
      "source": [
        "class Student:\n",
        "    def __init__(self, name, age, roll_number):\n",
        "        self.__name = name          # Encapsulated attribute\n",
        "        self.__age = age            # Encapsulated attribute\n",
        "        self.__roll_number = roll_number  # Encapsulated attribute\n",
        "\n",
        "    # Getter for name\n",
        "    def get_name(self):\n",
        "        return self.__name\n",
        "\n",
        "    # Setter for name\n",
        "    def set_name(self, name):\n",
        "        self.__name = name\n",
        "\n",
        "    # Getter for age\n",
        "    def get_age(self):\n",
        "        return self.__age\n",
        "\n",
        "    # Setter for age\n",
        "    def set_age(self, age):\n",
        "        if age > 0:  # Validating age\n",
        "            self.__age = age\n",
        "        else:\n",
        "            print(\"Age must be positive.\")\n",
        "\n",
        "    # Getter for roll number\n",
        "    def get_roll_number(self):\n",
        "        return self.__roll_number\n",
        "\n",
        "    # Setter for roll number\n",
        "    def set_roll_number(self, roll_number):\n",
        "        self.__roll_number = roll_number\n",
        "\n",
        "    # Method to display student information\n",
        "    def display_info(self):\n",
        "        print(f\"Student Name: {self.__name}\")\n",
        "        print(f\"Age: {self.__age}\")\n",
        "        print(f\"Roll Number: {self.__roll_number}\")\n",
        "\n",
        "    # Method to update student details\n",
        "    def update_details(self, name=None, age=None, roll_number=None):\n",
        "        if name is not None:\n",
        "            self.set_name(name)\n",
        "        if age is not None:\n",
        "            self.set_age(age)\n",
        "        if roll_number is not None:\n",
        "            self.set_roll_number(roll_number)\n",
        "\n",
        "\n",
        "# Testing the Student class\n",
        "if __name__ == \"__main__\":\n",
        "    # Creating instances of the Student class\n",
        "    student1 = Student(\"Alice\", 20, \"S123\")\n",
        "    student2 = Student(\"Bob\", 22, \"S124\")\n",
        "\n",
        "    # Displaying initial information\n",
        "    print(\"Initial Student Information:\")\n",
        "    student1.display_info()\n",
        "    student2.display_info()\n",
        "\n",
        "    # Updating student details\n",
        "    print(\"\\nUpdating details of student1:\")\n",
        "    student1.update_details(name=\"Alice Johnson\", age=21)\n",
        "    student1.display_info()\n",
        "\n",
        "    print(\"\\nUpdating details of student2:\")\n",
        "    student2.update_details(roll_number=\"S125\")\n",
        "    student2.display_info()\n"
      ],
      "metadata": {
        "colab": {
          "base_uri": "https://localhost:8080/"
        },
        "id": "zYTxKlAKeLj7",
        "outputId": "10908a5f-2ee4-4bbb-da60-90f6d8efaf1d"
      },
      "execution_count": 12,
      "outputs": [
        {
          "output_type": "stream",
          "name": "stdout",
          "text": [
            "Initial Student Information:\n",
            "Student Name: Alice\n",
            "Age: 20\n",
            "Roll Number: S123\n",
            "Student Name: Bob\n",
            "Age: 22\n",
            "Roll Number: S124\n",
            "\n",
            "Updating details of student1:\n",
            "Student Name: Alice Johnson\n",
            "Age: 21\n",
            "Roll Number: S123\n",
            "\n",
            "Updating details of student2:\n",
            "Student Name: Bob\n",
            "Age: 22\n",
            "Roll Number: S125\n"
          ]
        }
      ]
    },
    {
      "cell_type": "markdown",
      "source": [
        "3. Develop a Python program for managing library resources efficiently. Design a class named LibraryBook\n",
        "with attributes like book name, author, and availability status. Implement methods for borrowing and\n",
        "returning books while ensuring proper encapsulation of attributes.\n",
        "Tasks\n",
        "- Create the LibraryBook class with encapsulated attributes\n",
        "- Implement methods for borrowing and returning books\n",
        "- Ensure proper encapsulation to protect book details\n",
        "- Test the borrowing and returning functionality with sample data."
      ],
      "metadata": {
        "id": "JhLoBKvfedEE"
      }
    },
    {
      "cell_type": "code",
      "source": [
        "class LibraryBook:\n",
        "    def __init__(self, book_name, author):\n",
        "        self.__book_name = book_name      # Encapsulated attribute\n",
        "        self.__author = author             # Encapsulated attribute\n",
        "        self.__is_available = True         # Encapsulated attribute for availability\n",
        "\n",
        "    # Getter for book name\n",
        "    def get_book_name(self):\n",
        "        return self.__book_name\n",
        "\n",
        "    # Getter for author\n",
        "    def get_author(self):\n",
        "        return self.__author\n",
        "\n",
        "    # Getter for availability status\n",
        "    def is_available(self):\n",
        "        return self.__is_available\n",
        "\n",
        "    # Method to borrow the book\n",
        "    def borrow_book(self):\n",
        "        if self.__is_available:\n",
        "            self.__is_available = False\n",
        "            print(f\"You have borrowed '{self.__book_name}' by {self.__author}.\")\n",
        "        else:\n",
        "            print(f\"Sorry, '{self.__book_name}' is currently not available.\")\n",
        "\n",
        "    # Method to return the book\n",
        "    def return_book(self):\n",
        "        if not self.__is_available:\n",
        "            self.__is_available = True\n",
        "            print(f\"Thank you for returning '{self.__book_name}'.\")\n",
        "        else:\n",
        "            print(f\"'{self.__book_name}' was not borrowed.\")\n",
        "\n",
        "# Testing the LibraryBook class\n",
        "if __name__ == \"__main__\":\n",
        "    # Creating instances of the LibraryBook class\n",
        "    book1 = LibraryBook(\"1984\", \"George Orwell\")\n",
        "    book2 = LibraryBook(\"To Kill a Mockingbird\", \"Harper Lee\")\n",
        "\n",
        "    # Testing borrowing functionality\n",
        "    print(\"Borrowing Books:\")\n",
        "    book1.borrow_book()  # Should succeed\n",
        "    book1.borrow_book()  # Should indicate it's not available\n",
        "    book2.borrow_book()  # Should succeed\n",
        "\n",
        "    print(\"\\nReturning Books:\")\n",
        "    book1.return_book()  # Should succeed\n",
        "    book1.return_book()  # Should indicate it's already returned\n",
        "    book2.return_book()  # Should succeed\n"
      ],
      "metadata": {
        "colab": {
          "base_uri": "https://localhost:8080/"
        },
        "id": "2XpbAbHFeYL7",
        "outputId": "bf42f2af-d73e-40d3-965f-fc29c419b182"
      },
      "execution_count": 13,
      "outputs": [
        {
          "output_type": "stream",
          "name": "stdout",
          "text": [
            "Borrowing Books:\n",
            "You have borrowed '1984' by George Orwell.\n",
            "Sorry, '1984' is currently not available.\n",
            "You have borrowed 'To Kill a Mockingbird' by Harper Lee.\n",
            "\n",
            "Returning Books:\n",
            "Thank you for returning '1984'.\n",
            "'1984' was not borrowed.\n",
            "Thank you for returning 'To Kill a Mockingbird'.\n"
          ]
        }
      ]
    },
    {
      "cell_type": "markdown",
      "source": [
        "4. Create a simple banking system using object-oriented concepts in Python. Design classes representing\n",
        "different types of bank accounts such as savings and checking. Implement methods for deposit, withdraw,\n",
        "and balance inquiry. Utilize inheritance to manage different account types efficiently.\n",
        "Tasks\n",
        "- Define base class(es) for bank accounts with common attributes and methods\n",
        "- Implement subclasses for specific account types (e.g., SavingsAccount, CheckingAccount)\n",
        "- Provide methods for deposit, withdraw, and balance inquiry in each subclass\n",
        "- Test the banking system by creating instances of different account types and performing transactions."
      ],
      "metadata": {
        "id": "cptGwY1cfHYL"
      }
    },
    {
      "cell_type": "code",
      "source": [
        "class BankAccount:\n",
        "    def __init__(self, account_number, owner):\n",
        "        self.account_number = account_number\n",
        "        self.owner = owner\n",
        "        self.balance = 0.0  # Common attribute for all accounts\n",
        "\n",
        "    def deposit(self, amount):\n",
        "        if amount > 0:\n",
        "            self.balance += amount\n",
        "            print(f\"Deposited: ${amount:.2f}. New balance: ${self.balance:.2f}\")\n",
        "        else:\n",
        "            print(\"Deposit amount must be positive.\")\n",
        "\n",
        "    def withdraw(self, amount):\n",
        "        if amount > 0:\n",
        "            if amount <= self.balance:\n",
        "                self.balance -= amount\n",
        "                print(f\"Withdrew: ${amount:.2f}. New balance: ${self.balance:.2f}\")\n",
        "            else:\n",
        "                print(\"Insufficient funds.\")\n",
        "        else:\n",
        "            print(\"Withdrawal amount must be positive.\")\n",
        "\n",
        "    def inquire_balance(self):\n",
        "        print(f\"Current balance: ${self.balance:.2f}\")\n",
        "\n",
        "\n",
        "class SavingsAccount(BankAccount):\n",
        "    def __init__(self, account_number, owner, interest_rate):\n",
        "        super().__init__(account_number, owner)\n",
        "        self.interest_rate = interest_rate\n",
        "\n",
        "    def apply_interest(self):\n",
        "        interest = self.balance * (self.interest_rate / 100)\n",
        "        self.balance += interest\n",
        "        print(f\"Applied interest: ${interest:.2f}. New balance: ${self.balance:.2f}\")\n",
        "\n",
        "\n",
        "class CheckingAccount(BankAccount):\n",
        "    def __init__(self, account_number, owner, overdraft_limit):\n",
        "        super().__init__(account_number, owner)\n",
        "        self.overdraft_limit = overdraft_limit\n",
        "\n",
        "    def withdraw(self, amount):\n",
        "        if amount > 0:\n",
        "            if amount <= self.balance + self.overdraft_limit:\n",
        "                self.balance -= amount\n",
        "                print(f\"Withdrew: ${amount:.2f}. New balance: ${self.balance:.2f}\")\n",
        "            else:\n",
        "                print(\"Overdraft limit exceeded.\")\n",
        "        else:\n",
        "            print(\"Withdrawal amount must be positive.\")\n",
        "\n",
        "\n",
        "# Testing the Banking System\n",
        "if __name__ == \"__main__\":\n",
        "    # Creating instances of different account types\n",
        "    savings_account = SavingsAccount(\"SA001\", \"Alice\", 2.5)\n",
        "    checking_account = CheckingAccount(\"CA001\", \"Bob\", 100.0)\n",
        "\n",
        "    # Testing SavingsAccount\n",
        "    print(\"\\n--- Savings Account Transactions ---\")\n",
        "    savings_account.deposit(1000)\n",
        "    savings_account.inquire_balance()\n",
        "    savings_account.apply_interest()  # Apply interest on savings\n",
        "    savings_account.withdraw(200)\n",
        "    savings_account.inquire_balance()\n",
        "\n",
        "    # Testing CheckingAccount\n",
        "    print(\"\\n--- Checking Account Transactions ---\")\n",
        "    checking_account.deposit(500)\n",
        "    checking_account.inquire_balance()\n",
        "    checking_account.withdraw(600)  # Should succeed due to overdraft limit\n",
        "    checking_account.inquire_balance()\n",
        "    checking_account.withdraw(50)  # Should succeed\n",
        "    checking_account.inquire_balance()\n",
        "    checking_account.withdraw(1000)  # Should exceed overdraft limit\n"
      ],
      "metadata": {
        "colab": {
          "base_uri": "https://localhost:8080/"
        },
        "id": "sA05CHl6em3b",
        "outputId": "7c8059dd-4016-4bbc-d4cb-da0439db5dbc"
      },
      "execution_count": 14,
      "outputs": [
        {
          "output_type": "stream",
          "name": "stdout",
          "text": [
            "\n",
            "--- Savings Account Transactions ---\n",
            "Deposited: $1000.00. New balance: $1000.00\n",
            "Current balance: $1000.00\n",
            "Applied interest: $25.00. New balance: $1025.00\n",
            "Withdrew: $200.00. New balance: $825.00\n",
            "Current balance: $825.00\n",
            "\n",
            "--- Checking Account Transactions ---\n",
            "Deposited: $500.00. New balance: $500.00\n",
            "Current balance: $500.00\n",
            "Withdrew: $600.00. New balance: $-100.00\n",
            "Current balance: $-100.00\n",
            "Overdraft limit exceeded.\n",
            "Current balance: $-100.00\n",
            "Overdraft limit exceeded.\n"
          ]
        }
      ]
    },
    {
      "cell_type": "markdown",
      "source": [
        "5. Write a Python program that models different animals and their sounds. Design a base class called\n",
        "`Animal` with a method `make_sound()`. Create subclasses like `Dog` and `Cat` that override the\n",
        "`make_sound()` method to produce appropriate sounds.\n",
        "Tasks\n",
        "- Define the `Animal` class with a method `make_sound()`\n",
        "- Create subclasses `Dog` and `Cat` that override the `make_sound()` method\n",
        "- Implement the sound generation logic for each subclass\n",
        "- Test the program by creating instances of `Dog` and `Cat` and calling the `make_sound()` method."
      ],
      "metadata": {
        "id": "LHeleBQHfODq"
      }
    },
    {
      "cell_type": "code",
      "source": [
        "class Animal:\n",
        "    def make_sound(self):\n",
        "        raise NotImplementedError(\"Subclasses must implement this method.\")\n",
        "\n",
        "\n",
        "class Dog(Animal):\n",
        "    def make_sound(self):\n",
        "        return \"Woof!\"\n",
        "\n",
        "\n",
        "class Cat(Animal):\n",
        "    def make_sound(self):\n",
        "        return \"Meow!\"\n",
        "\n",
        "\n",
        "# Testing the Animal Sounds\n",
        "if __name__ == \"__main__\":\n",
        "    # Creating instances of Dog and Cat\n",
        "    dog = Dog()\n",
        "    cat = Cat()\n",
        "\n",
        "    # Calling the make_sound method\n",
        "    print(\"Dog sound:\", dog.make_sound())  # Output: Woof!\n",
        "    print(\"Cat sound:\", cat.make_sound())  # Output: Meow!\n"
      ],
      "metadata": {
        "colab": {
          "base_uri": "https://localhost:8080/"
        },
        "id": "NCrYRS00fLwy",
        "outputId": "0ca384ae-078f-4360-e836-402ce39e2219"
      },
      "execution_count": 15,
      "outputs": [
        {
          "output_type": "stream",
          "name": "stdout",
          "text": [
            "Dog sound: Woof!\n",
            "Cat sound: Meow!\n"
          ]
        }
      ]
    },
    {
      "cell_type": "markdown",
      "source": [
        "6.Write a code for Restaurant Management System Using OOPS3\n",
        "- Create a MenuItem class that has attributes such as name, description, price, and category\n",
        "- Implement methods to add a new menu item, update menu item information, and remove a menu item\n",
        "from the menu\n",
        "- Use encapsulation to hide the menu item's unique identification number\n",
        "- Inherit from the MenuItem class to create a FoodItem class and a BeverageItem class, each with their own\n",
        "specific attributes and methods."
      ],
      "metadata": {
        "id": "nVzbVZftfagc"
      }
    },
    {
      "cell_type": "code",
      "source": [
        "class MenuItem:\n",
        "    def __init__(self, unique_id, name, description, price, category):\n",
        "        self.__unique_id = unique_id  # Encapsulated attribute\n",
        "        self.name = name\n",
        "        self.description = description\n",
        "        self.price = price\n",
        "        self.category = category\n",
        "\n",
        "    # Getter for unique_id\n",
        "    def get_unique_id(self):\n",
        "        return self.__unique_id\n",
        "\n",
        "    def update_item(self, name=None, description=None, price=None, category=None):\n",
        "        if name:\n",
        "            self.name = name\n",
        "        if description:\n",
        "            self.description = description\n",
        "        if price is not None:\n",
        "            self.price = price\n",
        "        if category:\n",
        "            self.category = category\n",
        "\n",
        "    def __str__(self):\n",
        "        return f\"{self.name} ({self.category}): {self.description} - ${self.price:.2f}\"\n",
        "\n",
        "\n",
        "class FoodItem(MenuItem):\n",
        "    def __init__(self, unique_id, name, description, price, category, is_vegan=False):\n",
        "        super().__init__(unique_id, name, description, price, category)\n",
        "        self.is_vegan = is_vegan\n",
        "\n",
        "    def __str__(self):\n",
        "        vegan_info = \" [Vegan]\" if self.is_vegan else \"\"\n",
        "        return super().__str__() + vegan_info\n",
        "\n",
        "\n",
        "class BeverageItem(MenuItem):\n",
        "    def __init__(self, unique_id, name, description, price, category, is_alcoholic=False):\n",
        "        super().__init__(unique_id, name, description, price, category)\n",
        "        self.is_alcoholic = is_alcoholic\n",
        "\n",
        "    def __str__(self):\n",
        "        alcoholic_info = \" [Alcoholic]\" if self.is_alcoholic else \"\"\n",
        "        return super().__str__() + alcoholic_info\n",
        "\n",
        "\n",
        "class Menu:\n",
        "    def __init__(self):\n",
        "        self.menu_items = []\n",
        "\n",
        "    def add_menu_item(self, item):\n",
        "        self.menu_items.append(item)\n",
        "        print(f\"Added {item.name} to the menu.\")\n",
        "\n",
        "    def update_menu_item(self, unique_id, **kwargs):\n",
        "        for item in self.menu_items:\n",
        "            if item.get_unique_id() == unique_id:\n",
        "                item.update_item(**kwargs)\n",
        "                print(f\"Updated {item.name}.\")\n",
        "                return\n",
        "        print(\"Item not found.\")\n",
        "\n",
        "    def remove_menu_item(self, unique_id):\n",
        "        for item in self.menu_items:\n",
        "            if item.get_unique_id() == unique_id:\n",
        "                self.menu_items.remove(item)\n",
        "                print(f\"Removed {item.name} from the menu.\")\n",
        "                return\n",
        "        print(\"Item not found.\")\n",
        "\n",
        "    def display_menu(self):\n",
        "        print(\"\\nMenu:\")\n",
        "        for item in self.menu_items:\n",
        "            print(item)\n",
        "\n",
        "\n",
        "# Testing the Restaurant Management System\n",
        "if __name__ == \"__main__\":\n",
        "    # Create the Menu\n",
        "    restaurant_menu = Menu()\n",
        "\n",
        "    # Create and add menu items\n",
        "    food_item1 = FoodItem(1, \"Veg Burger\", \"A delicious veggie burger\", 5.99, \"Food\", True)\n",
        "    food_item2 = FoodItem(2, \"Chicken Salad\", \"Healthy chicken salad\", 7.49, \"Food\")\n",
        "    beverage_item1 = BeverageItem(3, \"Lemonade\", \"Fresh lemonade\", 2.99, \"Beverage\")\n",
        "    beverage_item2 = BeverageItem(4, \"Wine\", \"Red wine\", 12.99, \"Beverage\", True)\n",
        "\n",
        "    restaurant_menu.add_menu_item(food_item1)\n",
        "    restaurant_menu.add_menu_item(food_item2)\n",
        "    restaurant_menu.add_menu_item(beverage_item1)\n",
        "    restaurant_menu.add_menu_item(beverage_item2)\n",
        "\n",
        "    # Display the menu\n",
        "    restaurant_menu.display_menu()\n",
        "\n",
        "    # Update a menu item\n",
        "    restaurant_menu.update_menu_item(1, price=6.49)\n",
        "\n",
        "    # Remove a menu item\n",
        "    restaurant_menu.remove_menu_item(3)\n",
        "\n",
        "    # Display the updated menu\n",
        "    restaurant_menu.display_menu()\n"
      ],
      "metadata": {
        "colab": {
          "base_uri": "https://localhost:8080/"
        },
        "id": "d4ohOtlFfXkR",
        "outputId": "e537a57e-0b21-423e-b74b-4195bd656c5c"
      },
      "execution_count": 16,
      "outputs": [
        {
          "output_type": "stream",
          "name": "stdout",
          "text": [
            "Added Veg Burger to the menu.\n",
            "Added Chicken Salad to the menu.\n",
            "Added Lemonade to the menu.\n",
            "Added Wine to the menu.\n",
            "\n",
            "Menu:\n",
            "Veg Burger (Food): A delicious veggie burger - $5.99 [Vegan]\n",
            "Chicken Salad (Food): Healthy chicken salad - $7.49\n",
            "Lemonade (Beverage): Fresh lemonade - $2.99\n",
            "Wine (Beverage): Red wine - $12.99 [Alcoholic]\n",
            "Updated Veg Burger.\n",
            "Removed Lemonade from the menu.\n",
            "\n",
            "Menu:\n",
            "Veg Burger (Food): A delicious veggie burger - $6.49 [Vegan]\n",
            "Chicken Salad (Food): Healthy chicken salad - $7.49\n",
            "Wine (Beverage): Red wine - $12.99 [Alcoholic]\n"
          ]
        }
      ]
    },
    {
      "cell_type": "markdown",
      "source": [
        "7.Write a code for Hotel Management System using OOPS 3\n",
        "- Create a Room class that has attributes such as room number, room type, rate, and availability (private)\n",
        "- Implement methods to book a room, check in a guest, and check out a guest\n",
        "- Use encapsulation to hide the room's unique identification number\n",
        "- Inherit from the Room class to create a SuiteRoom class and a StandardRoom class, each with their own\n",
        "specific attributes and methods."
      ],
      "metadata": {
        "id": "FK5lhP5mfkYb"
      }
    },
    {
      "cell_type": "code",
      "source": [
        "class Room:\n",
        "    def __init__(self, room_number, room_type, rate):\n",
        "        self.__room_number = room_number\n",
        "        self.room_type = room_type\n",
        "        self.rate = rate\n",
        "        self.__availability = True\n",
        "        self.guest_name = None\n",
        "\n",
        "    def get_room_number(self):\n",
        "        return self.__room_number\n",
        "\n",
        "    def is_available(self):\n",
        "        return self.__availability\n",
        "\n",
        "    def book_room(self):\n",
        "        if self.__availability:\n",
        "            self.__availability = False\n",
        "            print(f\"Room {self.__room_number} booked successfully.\")\n",
        "        else:\n",
        "            print(f\"Room {self.__room_number} is already booked.\")\n",
        "\n",
        "    def check_in(self, guest_name):\n",
        "        if not self.__availability:\n",
        "            self.guest_name = guest_name\n",
        "            print(f\"{guest_name} checked into room {self.__room_number}.\")\n",
        "        else:\n",
        "            print(f\"Room {self.__room_number} is available. Please book it first.\")\n",
        "\n",
        "    def check_out(self):\n",
        "        if not self.__availability:\n",
        "            print(f\"{self.guest_name} checked out from room {self.__room_number}.\")\n",
        "            self.__availability = True\n",
        "            self.guest_name = None\n",
        "        else:\n",
        "            print(f\"Room {self.__room_number} is already available.\")\n",
        "\n",
        "class SuiteRoom(Room):\n",
        "    def __init__(self, room_number, rate, num_bedrooms):\n",
        "        super().__init__(room_number, \"Suite\", rate)\n",
        "        self.num_bedrooms = num_bedrooms\n",
        "\n",
        "    def get_suite_details(self):\n",
        "        return f\"Suite Room {self.get_room_number()}: {self.num_bedrooms} bedrooms at ${self.rate:.2f}/night.\"\n",
        "\n",
        "class StandardRoom(Room):\n",
        "    def __init__(self, room_number, rate):\n",
        "        super().__init__(room_number, \"Standard\", rate)\n",
        "\n",
        "    def get_standard_details(self):\n",
        "        return f\"Standard Room {self.get_room_number()}: ${self.rate:.2f}/night.\"\n",
        "\n",
        "class Hotel:\n",
        "    def __init__(self):\n",
        "        self.rooms = []\n",
        "\n",
        "    def add_room(self, room):\n",
        "        self.rooms.append(room)\n",
        "        print(f\"Room {room.get_room_number()} added to the hotel.\")\n",
        "\n",
        "    def display_rooms(self):\n",
        "        for room in self.rooms:\n",
        "            if isinstance(room, SuiteRoom):\n",
        "                print(room.get_suite_details())\n",
        "            elif isinstance(room, StandardRoom):\n",
        "                print(room.get_standard_details())\n",
        "\n",
        "if __name__ == \"__main__\":\n",
        "    hotel = Hotel()\n",
        "    room1 = SuiteRoom(101, 200.0, 2)\n",
        "    room2 = StandardRoom(102, 100.0)\n",
        "\n",
        "    hotel.add_room(room1)\n",
        "    hotel.add_room(room2)\n",
        "\n",
        "    hotel.display_rooms()\n",
        "\n",
        "    room1.book_room()\n",
        "    room1.check_in(\"John Doe\")\n",
        "    room1.check_out()\n",
        "\n",
        "    room2.book_room()\n",
        "    room2.check_in(\"Jane Smith\")\n",
        "    room2.check_out()\n"
      ],
      "metadata": {
        "colab": {
          "base_uri": "https://localhost:8080/"
        },
        "id": "5LG29l50ff8x",
        "outputId": "6ac24993-fbe9-4d04-9a32-fb318b382eef"
      },
      "execution_count": 17,
      "outputs": [
        {
          "output_type": "stream",
          "name": "stdout",
          "text": [
            "Room 101 added to the hotel.\n",
            "Room 102 added to the hotel.\n",
            "Suite Room 101: 2 bedrooms at $200.00/night.\n",
            "Standard Room 102: $100.00/night.\n",
            "Room 101 booked successfully.\n",
            "John Doe checked into room 101.\n",
            "John Doe checked out from room 101.\n",
            "Room 102 booked successfully.\n",
            "Jane Smith checked into room 102.\n",
            "Jane Smith checked out from room 102.\n"
          ]
        }
      ]
    },
    {
      "cell_type": "markdown",
      "source": [
        "8.Write a code for Fitness Club Management System using OOPS3\n",
        "- Create a Member class that has attributes such as name, age, membership type, and membership status\n",
        "(private)\n",
        "- Implement methods to register a new member, renew a membership, and cancel a membership\n",
        "- Use encapsulation to hide the member's unique identification number\n",
        "- Inherit from the Member class to create a FamilyMember class and an IndividualMember class, each with\n",
        "their own specific attributes and methods"
      ],
      "metadata": {
        "id": "v264KFyDfte6"
      }
    },
    {
      "cell_type": "code",
      "source": [
        "class Member:\n",
        "    def __init__(self, member_id, name, age, membership_type):\n",
        "        self.__member_id = member_id\n",
        "        self.name = name\n",
        "        self.age = age\n",
        "        self.membership_type = membership_type\n",
        "        self.__membership_status = \"Active\"\n",
        "\n",
        "    def get_member_id(self):\n",
        "        return self.__member_id\n",
        "\n",
        "    def register_member(self):\n",
        "        self.__membership_status = \"Active\"\n",
        "        print(f\"{self.name} registered successfully.\")\n",
        "\n",
        "    def renew_membership(self):\n",
        "        self.__membership_status = \"Active\"\n",
        "        print(f\"{self.name}'s membership renewed.\")\n",
        "\n",
        "    def cancel_membership(self):\n",
        "        self.__membership_status = \"Cancelled\"\n",
        "        print(f\"{self.name}'s membership cancelled.\")\n",
        "\n",
        "class IndividualMember(Member):\n",
        "    def __init__(self, member_id, name, age):\n",
        "        super().__init__(member_id, name, age, \"Individual\")\n",
        "\n",
        "    def get_individual_details(self):\n",
        "        return f\"Individual Member ID: {self.get_member_id()}, Name: {self.name}, Age: {self.age}, Membership Type: {self.membership_type}, Status: Active\"\n",
        "\n",
        "class FamilyMember(Member):\n",
        "    def __init__(self, member_id, name, age, family_size):\n",
        "        super().__init__(member_id, name, age, \"Family\")\n",
        "        self.family_size = family_size\n",
        "\n",
        "    def get_family_details(self):\n",
        "        return f\"Family Member ID: {self.get_member_id()}, Name: {self.name}, Age: {self.age}, Membership Type: {self.membership_type}, Family Size: {self.family_size}, Status: Active\"\n",
        "\n",
        "class FitnessClub:\n",
        "    def __init__(self):\n",
        "        self.members = []\n",
        "\n",
        "    def add_member(self, member):\n",
        "        self.members.append(member)\n",
        "        print(f\"{member.name} added as a member.\")\n",
        "\n",
        "    def display_members(self):\n",
        "        for member in self.members:\n",
        "            if isinstance(member, IndividualMember):\n",
        "                print(member.get_individual_details())\n",
        "            elif isinstance(member, FamilyMember):\n",
        "                print(member.get_family_details())\n",
        "\n",
        "if __name__ == \"__main__\":\n",
        "    fitness_club = FitnessClub()\n",
        "    member1 = IndividualMember(1, \"Alice\", 30)\n",
        "    member2 = FamilyMember(2, \"Bob\", 35, 4)\n",
        "\n",
        "    fitness_club.add_member(member1)\n",
        "    fitness_club.add_member(member2)\n",
        "\n",
        "    fitness_club.display_members()\n",
        "\n",
        "    member1.renew_membership()\n",
        "    member2.cancel_membership()\n"
      ],
      "metadata": {
        "colab": {
          "base_uri": "https://localhost:8080/"
        },
        "id": "S9r08CJrfnxO",
        "outputId": "df9687a4-d172-4d61-fcdc-275d5cba3f08"
      },
      "execution_count": 18,
      "outputs": [
        {
          "output_type": "stream",
          "name": "stdout",
          "text": [
            "Alice added as a member.\n",
            "Bob added as a member.\n",
            "Individual Member ID: 1, Name: Alice, Age: 30, Membership Type: Individual, Status: Active\n",
            "Family Member ID: 2, Name: Bob, Age: 35, Membership Type: Family, Family Size: 4, Status: Active\n",
            "Alice's membership renewed.\n",
            "Bob's membership cancelled.\n"
          ]
        }
      ]
    },
    {
      "cell_type": "markdown",
      "source": [
        "9.Write a code for Event Management System using OOPS3\n",
        "- Create an Event class that has attributes such as name, date, time, location, and list of attendees (private)\n",
        "- Implement methods to create a new event, add or remove attendees, and get the total number of\n",
        "attendees\n",
        "- Use encapsulation to hide the event's unique identification number\n",
        "- Inherit from the Event class to create a PrivateEvent class and a PublicEvent class, each with their own\n",
        "specific attributes and methods."
      ],
      "metadata": {
        "id": "jzxANQe7f0mr"
      }
    },
    {
      "cell_type": "code",
      "source": [
        "class Event:\n",
        "    def __init__(self, event_id, name, date, time, location):\n",
        "        self.__event_id = event_id\n",
        "        self.name = name\n",
        "        self.date = date\n",
        "        self.time = time\n",
        "        self.location = location\n",
        "        self.__attendees = []\n",
        "\n",
        "    def get_event_id(self):\n",
        "        return self.__event_id\n",
        "\n",
        "    def add_attendee(self, attendee):\n",
        "        self.__attendees.append(attendee)\n",
        "        print(f\"{attendee} added to {self.name}.\")\n",
        "\n",
        "    def remove_attendee(self, attendee):\n",
        "        if attendee in self.__attendees:\n",
        "            self.__attendees.remove(attendee)\n",
        "            print(f\"{attendee} removed from {self.name}.\")\n",
        "        else:\n",
        "            print(f\"{attendee} is not in the attendee list.\")\n",
        "\n",
        "    def get_total_attendees(self):\n",
        "        return len(self.__attendees)\n",
        "\n",
        "class PrivateEvent(Event):\n",
        "    def __init__(self, event_id, name, date, time, location, host):\n",
        "        super().__init__(event_id, name, date, time, location)\n",
        "        self.host = host\n",
        "\n",
        "    def get_event_details(self):\n",
        "        return f\"Private Event: {self.name}, Date: {self.date}, Time: {self.time}, Location: {self.location}, Host: {self.host}, Total Attendees: {self.get_total_attendees()}\"\n",
        "\n",
        "class PublicEvent(Event):\n",
        "    def __init__(self, event_id, name, date, time, location):\n",
        "        super().__init__(event_id, name, date, time, location)\n",
        "\n",
        "    def get_event_details(self):\n",
        "        return f\"Public Event: {self.name}, Date: {self.date}, Time: {self.time}, Location: {self.location}, Total Attendees: {self.get_total_attendees()}\"\n",
        "\n",
        "class EventManagement:\n",
        "    def __init__(self):\n",
        "        self.events = []\n",
        "\n",
        "    def create_event(self, event):\n",
        "        self.events.append(event)\n",
        "        print(f\"Event '{event.name}' created.\")\n",
        "\n",
        "    def display_events(self):\n",
        "        for event in self.events:\n",
        "            print(event.get_event_details())\n",
        "\n",
        "if __name__ == \"__main__\":\n",
        "    event_management = EventManagement()\n",
        "    event1 = PrivateEvent(1, \"Birthday Party\", \"2024-09-15\", \"18:00\", \"Alice's House\", \"Alice\")\n",
        "    event2 = PublicEvent(2, \"Community Meetup\", \"2024-09-20\", \"10:00\", \"Community Hall\")\n",
        "\n",
        "    event_management.create_event(event1)\n",
        "    event_management.create_event(event2)\n",
        "\n",
        "    event1.add_attendee(\"John\")\n",
        "    event1.add_attendee(\"Emma\")\n",
        "    event1.remove_attendee(\"John\")\n",
        "\n",
        "    event_management.display_events()\n"
      ],
      "metadata": {
        "colab": {
          "base_uri": "https://localhost:8080/"
        },
        "id": "qF4SX4spfwbI",
        "outputId": "b731b803-6787-4229-a25a-9aa0b218b4f5"
      },
      "execution_count": 19,
      "outputs": [
        {
          "output_type": "stream",
          "name": "stdout",
          "text": [
            "Event 'Birthday Party' created.\n",
            "Event 'Community Meetup' created.\n",
            "John added to Birthday Party.\n",
            "Emma added to Birthday Party.\n",
            "John removed from Birthday Party.\n",
            "Private Event: Birthday Party, Date: 2024-09-15, Time: 18:00, Location: Alice's House, Host: Alice, Total Attendees: 1\n",
            "Public Event: Community Meetup, Date: 2024-09-20, Time: 10:00, Location: Community Hall, Total Attendees: 0\n"
          ]
        }
      ]
    },
    {
      "cell_type": "markdown",
      "source": [
        "10.Write a code for Airline Reservation System using OOPS3\n",
        "- Create a Flight class that has attributes such as flight number, departure and arrival airports, departure and\n",
        "arrival times, and available seats (private)\n",
        "- Implement methods to book a seat, cancel a reservation, and get the remaining available seats\n",
        "- Use encapsulation to hide the flight's unique identification number\n",
        "- Inherit from the Flight class to create a DomesticFlight class and an InternationalFlight class, each with their\n",
        "own specific attributes and methods."
      ],
      "metadata": {
        "id": "0u3Kd4yYf6wb"
      }
    },
    {
      "cell_type": "code",
      "source": [
        "class Flight:\n",
        "    def __init__(self, flight_number, departure_airport, arrival_airport, departure_time, arrival_time, total_seats):\n",
        "        self.__flight_number = flight_number\n",
        "        self.departure_airport = departure_airport\n",
        "        self.arrival_airport = arrival_airport\n",
        "        self.departure_time = departure_time\n",
        "        self.arrival_time = arrival_time\n",
        "        self.__available_seats = total_seats\n",
        "\n",
        "    def get_flight_number(self):\n",
        "        return self.__flight_number\n",
        "\n",
        "    def book_seat(self):\n",
        "        if self.__available_seats > 0:\n",
        "            self.__available_seats -= 1\n",
        "            print(f\"Seat booked on flight {self.__flight_number}.\")\n",
        "        else:\n",
        "            print(\"No available seats.\")\n",
        "\n",
        "    def cancel_reservation(self):\n",
        "        self.__available_seats += 1\n",
        "        print(f\"Reservation cancelled for flight {self.__flight_number}.\")\n",
        "\n",
        "    def get_remaining_seats(self):\n",
        "        return self.__available_seats\n",
        "\n",
        "class DomesticFlight(Flight):\n",
        "    def __init__(self, flight_number, departure_airport, arrival_airport, departure_time, arrival_time, total_seats):\n",
        "        super().__init__(flight_number, departure_airport, arrival_airport, departure_time, arrival_time, total_seats)\n",
        "\n",
        "    def get_flight_details(self):\n",
        "        return f\"Domestic Flight {self.get_flight_number()}: {self.departure_airport} to {self.arrival_airport}, Departure: {self.departure_time}, Arrival: {self.arrival_time}, Remaining Seats: {self.get_remaining_seats()}\"\n",
        "\n",
        "class InternationalFlight(Flight):\n",
        "    def __init__(self, flight_number, departure_airport, arrival_airport, departure_time, arrival_time, total_seats, visa_required):\n",
        "        super().__init__(flight_number, departure_airport, arrival_airport, departure_time, arrival_time, total_seats)\n",
        "        self.visa_required = visa_required\n",
        "\n",
        "    def get_flight_details(self):\n",
        "        return f\"International Flight {self.get_flight_number()}: {self.departure_airport} to {self.arrival_airport}, Departure: {self.departure_time}, Arrival: {self.arrival_time}, Visa Required: {'Yes' if self.visa_required else 'No'}, Remaining Seats: {self.get_remaining_seats()}\"\n",
        "\n",
        "class AirlineReservationSystem:\n",
        "    def __init__(self):\n",
        "        self.flights = []\n",
        "\n",
        "    def add_flight(self, flight):\n",
        "        self.flights.append(flight)\n",
        "        print(f\"Flight {flight.get_flight_number()} added.\")\n",
        "\n",
        "    def display_flights(self):\n",
        "        for flight in self.flights:\n",
        "            print(flight.get_flight_details())\n",
        "\n",
        "if __name__ == \"__main__\":\n",
        "    airline_system = AirlineReservationSystem()\n",
        "    domestic_flight = DomesticFlight(\"DF123\", \"JFK\", \"LAX\", \"2024-09-01 08:00\", \"2024-09-01 11:00\", 150)\n",
        "    international_flight = InternationalFlight(\"IF456\", \"JFK\", \"LHR\", \"2024-09-02 20:00\", \"2024-09-03 08:00\", 200, True)\n",
        "\n",
        "    airline_system.add_flight(domestic_flight)\n",
        "    airline_system.add_flight(international_flight)\n",
        "\n",
        "    domestic_flight.book_seat()\n",
        "    international_flight.book_seat()\n",
        "    international_flight.cancel_reservation()\n",
        "\n",
        "    airline_system.display_flights()\n"
      ],
      "metadata": {
        "colab": {
          "base_uri": "https://localhost:8080/"
        },
        "id": "iLxfuydff4Or",
        "outputId": "5092c1ee-9181-4f5f-b059-bd4f05ecde61"
      },
      "execution_count": 20,
      "outputs": [
        {
          "output_type": "stream",
          "name": "stdout",
          "text": [
            "Flight DF123 added.\n",
            "Flight IF456 added.\n",
            "Seat booked on flight DF123.\n",
            "Seat booked on flight IF456.\n",
            "Reservation cancelled for flight IF456.\n",
            "Domestic Flight DF123: JFK to LAX, Departure: 2024-09-01 08:00, Arrival: 2024-09-01 11:00, Remaining Seats: 149\n",
            "International Flight IF456: JFK to LHR, Departure: 2024-09-02 20:00, Arrival: 2024-09-03 08:00, Visa Required: Yes, Remaining Seats: 200\n"
          ]
        }
      ]
    },
    {
      "cell_type": "markdown",
      "source": [
        "24: Calculate coefficient of correlation between the marks obtained by 10 students in Accountancy and\n",
        "statistics:Use Karl Pearson’s Coefficient of Correlation Method to find it."
      ],
      "metadata": {
        "id": "xCfkBw8noSN3"
      }
    },
    {
      "cell_type": "code",
      "source": [
        "import math\n",
        "\n",
        "# Marks of 10 students in Accountancy and Statistics\n",
        "accountancy_marks = [45, 70, 65, 30, 90, 40, 75, 85, 80, 60]\n",
        "statistics_marks = [35, 90, 70, 40, 95, 40, 80, 80, 80, 50]\n",
        "\n",
        "# Number of students\n",
        "n = len(accountancy_marks)\n",
        "\n",
        "# Calculating the sums\n",
        "sum_x = sum(accountancy_marks)\n",
        "sum_y = sum(statistics_marks)\n",
        "sum_x_sq = sum([x**2 for x in accountancy_marks])\n",
        "sum_y_sq = sum([y**2 for y in statistics_marks])\n",
        "sum_xy = sum([x * y for x, y in zip(accountancy_marks, statistics_marks)])\n",
        "\n",
        "# Calculating Pearson's correlation coefficient\n",
        "numerator = n * sum_xy - (sum_x * sum_y)\n",
        "denominator = math.sqrt((n * sum_x_sq - sum_x**2) * (n * sum_y_sq - sum_y**2))\n",
        "\n",
        "if denominator != 0:\n",
        "    r = numerator / denominator\n",
        "else:\n",
        "    r = 0  # To avoid division by zero\n",
        "\n",
        "# Display the result\n",
        "print(f\"Pearson's correlation coefficient (r) is: {r:.4f}\")\n"
      ],
      "metadata": {
        "colab": {
          "base_uri": "https://localhost:8080/"
        },
        "id": "BWyJwArbgJvp",
        "outputId": "dccc7711-6755-44f3-d2f4-c5f5ad00da71"
      },
      "execution_count": 21,
      "outputs": [
        {
          "output_type": "stream",
          "name": "stdout",
          "text": [
            "Pearson's correlation coefficient (r) is: 0.9138\n"
          ]
        }
      ]
    },
    {
      "cell_type": "markdown",
      "source": [
        "36. 100 students of a PW IOI obtained the following grades in Data Science paper :\n",
        "Grade :[A, B, C, D, E]\n",
        "Total Frequency :[15, 17, 30, 22, 16, 100]\n",
        "Using the χ 2 test , examine the hypothesis that the distribution of grades is uniform."
      ],
      "metadata": {
        "id": "4EwMLkaB0pnE"
      }
    },
    {
      "cell_type": "code",
      "source": [
        "import numpy as np\n",
        "import scipy.stats as stats\n",
        "\n",
        "grades = ['A', 'B', 'C', 'D', 'E']\n",
        "observed_frequencies = np.array([15, 17, 30, 22, 16])\n",
        "total_students = 100\n",
        "\n",
        "expected_frequencies = np.array([total_students / len(grades)] * len(grades))\n",
        "\n",
        "chi_square_statistic = np.sum((observed_frequencies - expected_frequencies) ** 2 / expected_frequencies)\n",
        "\n",
        "degrees_of_freedom = len(grades) - 1\n",
        "\n",
        "p_value = 1 - stats.chi2.cdf(chi_square_statistic, degrees_of_freedom)\n",
        "\n",
        "print(f\"Chi-square Statistic: {chi_square_statistic:.2f}\")\n",
        "print(f\"Degrees of Freedom: {degrees_of_freedom}\")\n",
        "print(f\"P-value: {p_value:.4f}\")\n",
        "\n",
        "alpha = 0.05\n",
        "if p_value < alpha:\n",
        "    print(\"Reject the null hypothesis: The distribution of grades is not uniform.\")\n",
        "else:\n",
        "    print(\"Do not reject the null hypothesis: The distribution of grades is uniform.\")\n"
      ],
      "metadata": {
        "colab": {
          "base_uri": "https://localhost:8080/"
        },
        "id": "dzcqxgiZoYrV",
        "outputId": "8a8eb1c6-9db5-465e-d917-a4a891890d97"
      },
      "execution_count": 22,
      "outputs": [
        {
          "output_type": "stream",
          "name": "stdout",
          "text": [
            "Chi-square Statistic: 7.70\n",
            "Degrees of Freedom: 4\n",
            "P-value: 0.1032\n",
            "Do not reject the null hypothesis: The distribution of grades is uniform.\n"
          ]
        }
      ]
    },
    {
      "cell_type": "markdown",
      "source": [
        "38. Annova Test"
      ],
      "metadata": {
        "id": "YreTVdrX1e3r"
      }
    },
    {
      "cell_type": "code",
      "source": [
        "import pandas as pd\n",
        "from scipy import stats\n",
        "\n",
        "data = {\n",
        "    'Whiteness': [57, 49, 54, 55, 52, 46, 67, 68, 58],\n",
        "    'Detergent': ['A', 'A', 'A', 'B', 'B', 'B', 'C', 'C', 'C'],\n",
        "    'Water_Temperature': ['Cold', 'Warm', 'Hot', 'Cold', 'Warm', 'Hot', 'Cold', 'Warm', 'Hot']\n",
        "}\n",
        "\n",
        "df = pd.DataFrame(data)\n",
        "\n",
        "f_val_detergent, p_val_detergent = stats.f_oneway(\n",
        "    df[df['Detergent'] == 'A']['Whiteness'],\n",
        "    df[df['Detergent'] == 'B']['Whiteness'],\n",
        "    df[df['Detergent'] == 'C']['Whiteness']\n",
        ")\n",
        "\n",
        "f_val_temp, p_val_temp = stats.f_oneway(\n",
        "    df[df['Water_Temperature'] == 'Cold']['Whiteness'],\n",
        "    df[df['Water_Temperature'] == 'Warm']['Whiteness'],\n",
        "    df[df['Water_Temperature'] == 'Hot']['Whiteness']\n",
        ")\n",
        "\n",
        "print(f\"ANOVA results for Detergents: F-value = {f_val_detergent}, p-value = {p_val_detergent}\")\n",
        "print(f\"ANOVA results for Water Temperature: F-value = {f_val_temp}, p-value = {p_val_temp}\")\n",
        "\n",
        "if p_val_detergent < 0.05:\n",
        "    print(\"There is a significant difference in the mean whiteness readings between the different detergents.\")\n",
        "else:\n",
        "    print(\"There is no significant difference in the mean whiteness readings between the different detergents.\")\n",
        "\n",
        "if p_val_temp < 0.05:\n",
        "    print(\"There is a significant difference in the mean whiteness readings between the different water temperatures.\")\n",
        "else:\n",
        "    print(\"There is no significant difference in the mean whiteness readings between the different water temperatures.\")\n"
      ],
      "metadata": {
        "colab": {
          "base_uri": "https://localhost:8080/"
        },
        "id": "b_qG0CaY0zUx",
        "outputId": "fa138f5b-b385-4ee4-d8b2-15586e672915"
      },
      "execution_count": 23,
      "outputs": [
        {
          "output_type": "stream",
          "name": "stdout",
          "text": [
            "ANOVA results for Detergents: F-value = 6.743842364532019, p-value = 0.02918589502743675\n",
            "ANOVA results for Water Temperature: F-value = 0.6029143897996357, p-value = 0.5773005027709032\n",
            "There is a significant difference in the mean whiteness readings between the different detergents.\n",
            "There is no significant difference in the mean whiteness readings between the different water temperatures.\n"
          ]
        }
      ]
    },
    {
      "cell_type": "code",
      "source": [],
      "metadata": {
        "id": "SE_KxIru1pU4"
      },
      "execution_count": null,
      "outputs": []
    }
  ]
}