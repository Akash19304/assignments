{
  "nbformat": 4,
  "nbformat_minor": 0,
  "metadata": {
    "colab": {
      "provenance": []
    },
    "kernelspec": {
      "name": "python3",
      "display_name": "Python 3"
    },
    "language_info": {
      "name": "python"
    }
  },
  "cells": [
    {
      "cell_type": "markdown",
      "source": [
        "Q1 - Which keyword is used to create a function? Create a function to return a list of odd numbers in the\n",
        "range of 1 to 25.\n",
        "\n",
        "Ans -The def keyword is used to define a function."
      ],
      "metadata": {
        "id": "Sj1eBMpuuqtZ"
      }
    },
    {
      "cell_type": "code",
      "execution_count": 1,
      "metadata": {
        "colab": {
          "base_uri": "https://localhost:8080/"
        },
        "id": "l3Yn4a_0uR77",
        "outputId": "735f3d6e-9791-4ee6-b983-415a7211e511"
      },
      "outputs": [
        {
          "output_type": "stream",
          "name": "stdout",
          "text": [
            "[1, 3, 5, 7, 9, 11, 13, 15, 17, 19, 21, 23, 25]\n"
          ]
        }
      ],
      "source": [
        "def get_odd_numbers():\n",
        "    return [number for number in range(1, 26) if number % 2 != 0]\n",
        "\n",
        "odd_numbers = get_odd_numbers()\n",
        "print(odd_numbers)\n"
      ]
    },
    {
      "cell_type": "markdown",
      "source": [
        "Q2 - Why *args and **kwargs is used in some functions? Create a function each for *args and **kwargs\n",
        "to demonstrate their use.\n",
        "\n",
        "Ans - The *args and **kwargs are used in functions to allow for a variable number of arguments.\n",
        "\n",
        "- *args allows a function to accept any number of positional arguments.\n",
        "- **kwargs allows a function to accept any number of keyword arguments."
      ],
      "metadata": {
        "id": "yRdzoyFSu6n7"
      }
    },
    {
      "cell_type": "code",
      "source": [
        "def sum_numbers(*args):\n",
        "    return sum(args)\n",
        "\n",
        "result = sum_numbers(1, 2, 3, 4, 5)\n",
        "print(\"args - \", result)\n",
        "\n",
        "\n",
        "def print_details(**kwargs):\n",
        "    for key, value in kwargs.items():\n",
        "        print(f\"{key}: {value}\")\n",
        "\n",
        "print(\"kwargs - \")\n",
        "print_details(name=\"Alice\", age=30, city=\"New York\")\n"
      ],
      "metadata": {
        "colab": {
          "base_uri": "https://localhost:8080/"
        },
        "id": "4Bvac3WXvFJ1",
        "outputId": "5bdd05c4-ad42-4982-9183-9294726e8bdf"
      },
      "execution_count": 2,
      "outputs": [
        {
          "output_type": "stream",
          "name": "stdout",
          "text": [
            "args -  15\n",
            "kwargs - \n",
            "name: Alice\n",
            "age: 30\n",
            "city: New York\n"
          ]
        }
      ]
    },
    {
      "cell_type": "markdown",
      "source": [
        "Q3 - What is an iterator in python? Name the method used to initialise the iterator object and the method\n",
        "used for iteration. Use these methods to print the first five elements of the given list [2, 4, 6, 8, 10, 12, 14,\n",
        "16, 18, 20].\n",
        "\n",
        "Ans - An iterator in Python is an object that allows you to traverse through all the elements of a collection, such as a list or tuple, one element at a time. Iterators implement two methods:\n",
        "\n",
        "- __iter__(): This method initializes the iterator object and returns itself.\n",
        "- __next__(): This method returns the next item from the collection. If there are no more items, it raises a StopIteration exception."
      ],
      "metadata": {
        "id": "lwoQozoPvSeE"
      }
    },
    {
      "cell_type": "code",
      "source": [
        "numbers = [2, 4, 6, 8, 10, 12, 14, 16, 18, 20]\n",
        "\n",
        "iterator = iter(numbers)\n",
        "\n",
        "for _ in range(5):\n",
        "    print(next(iterator))\n"
      ],
      "metadata": {
        "colab": {
          "base_uri": "https://localhost:8080/"
        },
        "id": "jS_kZICEvZRI",
        "outputId": "087d502e-3772-484a-f690-076224b40909"
      },
      "execution_count": 3,
      "outputs": [
        {
          "output_type": "stream",
          "name": "stdout",
          "text": [
            "2\n",
            "4\n",
            "6\n",
            "8\n",
            "10\n"
          ]
        }
      ]
    },
    {
      "cell_type": "markdown",
      "source": [
        "Q4 - What is a generator function in python? Why yield keyword is used? Give an example of a generator\n",
        "function.\n",
        "\n",
        "Ans - A generator function in Python is a special type of function that returns an iterator. Unlike regular functions that return a single value using the return statement, a generator function uses the yield keyword to return a value and pause its state, allowing it to resume where it left off when called again.\n",
        "The yield keyword is used in generator functions to produce a series of values over time, rather than computing them all at once and sending them back to the caller."
      ],
      "metadata": {
        "id": "yUTrV4F8vfn8"
      }
    },
    {
      "cell_type": "code",
      "source": [
        "def generate_even_numbers(limit):\n",
        "    num = 0\n",
        "    while num < limit:\n",
        "        yield num\n",
        "        num += 2\n",
        "\n",
        "even_numbers = generate_even_numbers(10)\n",
        "\n",
        "for number in even_numbers:\n",
        "    print(number)"
      ],
      "metadata": {
        "colab": {
          "base_uri": "https://localhost:8080/"
        },
        "id": "e4ORsCFPvndv",
        "outputId": "0da818ae-7789-4d06-cbda-eb6523da1b5a"
      },
      "execution_count": 4,
      "outputs": [
        {
          "output_type": "stream",
          "name": "stdout",
          "text": [
            "0\n",
            "2\n",
            "4\n",
            "6\n",
            "8\n"
          ]
        }
      ]
    },
    {
      "cell_type": "markdown",
      "source": [
        "Q5 - Create a generator function for prime numbers less than 1000. Use the next() method to print the\n",
        "first 20 prime numbers.\n",
        "\n",
        "Ans -"
      ],
      "metadata": {
        "id": "dFGSWk51vvpb"
      }
    },
    {
      "cell_type": "code",
      "source": [
        "def generate_primes(limit=1000):\n",
        "    def is_prime(n):\n",
        "        if n <= 1:\n",
        "            return False\n",
        "        if n == 2:\n",
        "            return True\n",
        "        if n % 2 == 0:\n",
        "            return False\n",
        "        for i in range(3, int(n**0.5) + 1, 2):\n",
        "            if n % i == 0:\n",
        "                return False\n",
        "        return True\n",
        "\n",
        "    num = 2\n",
        "    while num < limit:\n",
        "        if is_prime(num):\n",
        "            yield num\n",
        "        num += 1\n",
        "\n",
        "primes = generate_primes()\n",
        "\n",
        "for _ in range(20):\n",
        "    print(next(primes))\n"
      ],
      "metadata": {
        "colab": {
          "base_uri": "https://localhost:8080/"
        },
        "id": "f9eGyec7vpyc",
        "outputId": "a14e8485-888b-4c7f-ee4f-dce284ee0890"
      },
      "execution_count": 5,
      "outputs": [
        {
          "output_type": "stream",
          "name": "stdout",
          "text": [
            "2\n",
            "3\n",
            "5\n",
            "7\n",
            "11\n",
            "13\n",
            "17\n",
            "19\n",
            "23\n",
            "29\n",
            "31\n",
            "37\n",
            "41\n",
            "43\n",
            "47\n",
            "53\n",
            "59\n",
            "61\n",
            "67\n",
            "71\n"
          ]
        }
      ]
    },
    {
      "cell_type": "markdown",
      "source": [
        "Q6 - Write a python program to print the first 10 Fibonacci numbers using a while loop.\n",
        "\n",
        "Ans -"
      ],
      "metadata": {
        "id": "M6RI3BKJv5El"
      }
    },
    {
      "cell_type": "code",
      "source": [
        "a, b = 0, 1\n",
        "count = 0\n",
        "\n",
        "n = 10\n",
        "\n",
        "while count < n:\n",
        "    print(a)\n",
        "    a, b = b, a + b\n",
        "    count += 1\n"
      ],
      "metadata": {
        "colab": {
          "base_uri": "https://localhost:8080/"
        },
        "id": "ran84Xy8v7MT",
        "outputId": "25099316-debc-444c-9e4b-d9ca9c69aed7"
      },
      "execution_count": 6,
      "outputs": [
        {
          "output_type": "stream",
          "name": "stdout",
          "text": [
            "0\n",
            "1\n",
            "1\n",
            "2\n",
            "3\n",
            "5\n",
            "8\n",
            "13\n",
            "21\n",
            "34\n"
          ]
        }
      ]
    },
    {
      "cell_type": "markdown",
      "source": [
        "Q7 - Write a List Comprehension to iterate through the given string: ‘pwskills’.\n",
        "Expected output: ['p', 'w', 's', 'k', 'i', 'l', 'l', 's']\n",
        "\n",
        "Ans -"
      ],
      "metadata": {
        "id": "ObDzYaKCwJV6"
      }
    },
    {
      "cell_type": "code",
      "source": [
        "s = 'pwskills'\n",
        "\n",
        "output = [char for char in s]\n",
        "\n",
        "print(output)\n"
      ],
      "metadata": {
        "colab": {
          "base_uri": "https://localhost:8080/"
        },
        "id": "ZWE1DpmowM2u",
        "outputId": "517b591c-61b1-4a58-806f-dbe359d058e5"
      },
      "execution_count": 7,
      "outputs": [
        {
          "output_type": "stream",
          "name": "stdout",
          "text": [
            "['p', 'w', 's', 'k', 'i', 'l', 'l', 's']\n"
          ]
        }
      ]
    },
    {
      "cell_type": "markdown",
      "source": [
        "Q8 - Write a python program to check whether a given number is Palindrome or not using a while loop."
      ],
      "metadata": {
        "id": "6GN5npa6wP5a"
      }
    },
    {
      "cell_type": "code",
      "source": [
        "def is_palindrome(number):\n",
        "    original_number = str(number)\n",
        "    reversed_number = ''\n",
        "\n",
        "    length = len(original_number)\n",
        "    index = length - 1\n",
        "\n",
        "    while index >= 0:\n",
        "        reversed_number += original_number[index]\n",
        "        index -= 1\n",
        "\n",
        "    return original_number == reversed_number\n",
        "\n",
        "num = 12321\n",
        "\n",
        "if is_palindrome(num):\n",
        "    print(f\"{num} is a palindrome.\")\n",
        "else:\n",
        "    print(f\"{num} is not a palindrome.\")\n"
      ],
      "metadata": {
        "colab": {
          "base_uri": "https://localhost:8080/"
        },
        "id": "0h4I0jGjwOGq",
        "outputId": "ca1f2472-e1b2-40a3-a039-e6375455dd6d"
      },
      "execution_count": 8,
      "outputs": [
        {
          "output_type": "stream",
          "name": "stdout",
          "text": [
            "12321 is a palindrome.\n"
          ]
        }
      ]
    },
    {
      "cell_type": "markdown",
      "source": [
        "Q9 - Write a code to print odd numbers from 1 to 100 using list comprehension.\n",
        "\n",
        "Ans -"
      ],
      "metadata": {
        "id": "kaGHu5V5wTSF"
      }
    },
    {
      "cell_type": "code",
      "source": [
        "numbers = [num for num in range(1, 101)]\n",
        "\n",
        "odd_numbers = [num for num in numbers if num % 2 != 0]\n",
        "\n",
        "print(odd_numbers)\n"
      ],
      "metadata": {
        "colab": {
          "base_uri": "https://localhost:8080/"
        },
        "id": "VU9hqooNwZQm",
        "outputId": "2ba40db0-f8e4-4b6f-f112-883f6a2f3256"
      },
      "execution_count": 9,
      "outputs": [
        {
          "output_type": "stream",
          "name": "stdout",
          "text": [
            "[1, 3, 5, 7, 9, 11, 13, 15, 17, 19, 21, 23, 25, 27, 29, 31, 33, 35, 37, 39, 41, 43, 45, 47, 49, 51, 53, 55, 57, 59, 61, 63, 65, 67, 69, 71, 73, 75, 77, 79, 81, 83, 85, 87, 89, 91, 93, 95, 97, 99]\n"
          ]
        }
      ]
    }
  ]
}